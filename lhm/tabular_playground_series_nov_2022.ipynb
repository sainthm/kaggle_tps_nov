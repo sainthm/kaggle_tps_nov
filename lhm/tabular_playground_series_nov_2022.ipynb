{
 "cells": [
  {
   "cell_type": "markdown",
   "id": "b04d22f0",
   "metadata": {},
   "source": [
    "# Tabular-playground-series-nov-2022"
   ]
  },
  {
   "cell_type": "markdown",
   "id": "87a51208",
   "metadata": {},
   "source": [
    "<br>"
   ]
  },
  {
   "cell_type": "markdown",
   "id": "ef847523",
   "metadata": {},
   "source": [
    "## Details of competition\n",
    "#### URL: https://www.kaggle.com/competitions/tabular-playground-series-nov-2022/overview\n",
    "\n",
    "<br>\n",
    "\n",
    "#### Topic\n",
    "Provide a fun and approachable-for-anyone tabular dataset to model.\n",
    "\n",
    "<br>\n",
    "\n",
    "#### Background\n",
    "\n",
    "<br>\n",
    "\n",
    "##### About the Tabular Playground Series\n",
    "Kaggle competitions are incredibly fun and rewarding, but they can also be intimidating for people who are relatively new in their data science journey. In the past, we've launched many Playground competitions that are more approachable than our Featured competitions and thus, more beginner-friendly.\n",
    "\n",
    "<br>\n",
    "\n",
    "**The goal of these competitions is to provide a fun and approachable-for-anyone tabular dataset to model.** These competitions are a great choice for people looking for something in between the Titanic Getting Started competition and the Featured competitions. If you're an established competitions master or grandmaster, these probably won't be much of a challenge for you; thus, we encourage you to avoid saturating the leaderboard.\n",
    "\n",
    "<br>\n",
    "\n",
    "For each monthly competition, we'll be offering Kaggle Merchandise for the top three teams. And finally, because we want these competitions to be more about learning, we're limiting team sizes to 3 individuals."
   ]
  },
  {
   "cell_type": "markdown",
   "id": "0645e460",
   "metadata": {},
   "source": [
    "### "
   ]
  },
  {
   "cell_type": "markdown",
   "id": "ad7c689c",
   "metadata": {},
   "source": [
    "## 한 줄 요약!!\n",
    "\n",
    "<br>\n",
    "\n",
    "- **준비된 뒷토막 + 프로젝트 진행(앙상블 + 블랜딩)하는 앞토막 >> 모델 향상 >> 결과 제출**"
   ]
  },
  {
   "cell_type": "markdown",
   "id": "f823cb78",
   "metadata": {},
   "source": []
  },
  {
   "cell_type": "markdown",
   "id": "29db19e8",
   "metadata": {},
   "source": [
    "## Files 항목\n",
    "\n",
    "### submission_files/\n",
    "\n",
    "- 앞 반토막에 대한 이진 분류 모델 예측값 파일 모음\n",
    "\n",
    "<br>\n",
    "\n",
    "### train_labels.csv\n",
    "\n",
    "- 제출 파일에 대한 앞 반토막 실측값\n",
    "\n",
    "\n",
    "<br>\n",
    "\n",
    "\n",
    "### sample_submission.csv\n",
    "\n",
    "- 뒷토막만 정상 데이터인 샘플 제출 파일\n",
    "\n",
    "\n",
    "- 포맷(ids)은 정상임\n",
    "\n",
    "\n",
    "- 점수 향상을 위해, 앞 반토막에 대해 추가 작업 진행 (데이터 섞기)\n",
    "\n",
    "\n"
   ]
  },
  {
   "cell_type": "markdown",
   "id": "54ddd9e2",
   "metadata": {},
   "source": [
    "### "
   ]
  },
  {
   "cell_type": "markdown",
   "id": "d018577d",
   "metadata": {},
   "source": [
    "## 데이터 관련 이해사항:\n",
    "\n",
    "<br>\n",
    "\n",
    "### submission_files(folder)\n",
    "- 이진 분류 작업에 대한 예측값들이 저장\n",
    "\n",
    "\n",
    "- 각 파일 이름은 로그 손실(logloss) 점수\n",
    "\n",
    "\n",
    "- 실측 라벨 파일(train_label?)의 예측 행의 절반에 대한 로그 손실 점수가 파일 제목\n",
    "\n",
    "\n",
    "- 훌륭한 트레이닝 세트가 됨\n",
    "\n",
    "<br>\n",
    "\n",
    "### train_labels.csv\n",
    "\n",
    "- submission_files의 파일의 행에 대한 실측 정보값 제공\n",
    "\n",
    "\n",
    "<br>\n",
    "\n",
    "\n",
    "### sample_submission.csv\n",
    "\n",
    "- 이해가 어느정도 된 부분!\n",
    "\n",
    "- 나머지 뒷부분 반토막(20000~39999)에 대한 결과 예측을 제출!!"
   ]
  },
  {
   "cell_type": "markdown",
   "id": "8e9e7586",
   "metadata": {},
   "source": [
    "### "
   ]
  },
  {
   "cell_type": "markdown",
   "id": "f05a8115",
   "metadata": {},
   "source": [
    "## 우리의 목표\n",
    "\n",
    "- 앙상블 활용!\n",
    "\n",
    "\n",
    "- 다양한 submission file들의 앙상블을 통해, 모델 예측 성능을 높이는 것!!\n",
    "\n",
    "\n",
    "- submission_files(반토막짜리 행에 대한 실측값들)들이 있으므로 블랜딩(여러 데이터를 합쳐서)하면 더 좋은 결과를 얻었는지 아닌지 알 수 있을 것임!!\n",
    "\n",
    "<br>\n",
    "\n",
    "### 요약\n",
    "\n",
    "1. 두 파일을 합쳐서 반토막 데이터에 대한 점수(예측값)를 확인할 수 있음!!\n",
    "\n",
    "\n",
    "2. 점수를 계속해서 개선해나갈 수 있음!!\n",
    "\n",
    "\n",
    "3. 점수를 (극한으로) 개선 후, 나머지 행들에 대해, 리더보드에 제출할 수 있음!! 🥸\n",
    "\n"
   ]
  },
  {
   "cell_type": "markdown",
   "id": "9bccc032",
   "metadata": {},
   "source": [
    "<br>"
   ]
  },
  {
   "cell_type": "code",
   "execution_count": 4,
   "id": "b2586e3d",
   "metadata": {},
   "outputs": [
    {
     "name": "stdout",
     "output_type": "stream",
     "text": [
      "sample_submission.csv \u001b[1m\u001b[36msubmission_files\u001b[m\u001b[m      train_labels.csv\r\n"
     ]
    }
   ],
   "source": [
    "# import data\n",
    "# !ls\n",
    "!ls ./tabular-playground-series-nov-2022/"
   ]
  },
  {
   "cell_type": "code",
   "execution_count": 5,
   "id": "1d416c6d",
   "metadata": {},
   "outputs": [
    {
     "data": {
      "text/html": [
       "<div>\n",
       "<style scoped>\n",
       "    .dataframe tbody tr th:only-of-type {\n",
       "        vertical-align: middle;\n",
       "    }\n",
       "\n",
       "    .dataframe tbody tr th {\n",
       "        vertical-align: top;\n",
       "    }\n",
       "\n",
       "    .dataframe thead th {\n",
       "        text-align: right;\n",
       "    }\n",
       "</style>\n",
       "<table border=\"1\" class=\"dataframe\">\n",
       "  <thead>\n",
       "    <tr style=\"text-align: right;\">\n",
       "      <th></th>\n",
       "      <th>id</th>\n",
       "      <th>pred</th>\n",
       "    </tr>\n",
       "  </thead>\n",
       "  <tbody>\n",
       "    <tr>\n",
       "      <th>0</th>\n",
       "      <td>20000</td>\n",
       "      <td>0.640707</td>\n",
       "    </tr>\n",
       "    <tr>\n",
       "      <th>1</th>\n",
       "      <td>20001</td>\n",
       "      <td>0.636904</td>\n",
       "    </tr>\n",
       "    <tr>\n",
       "      <th>2</th>\n",
       "      <td>20002</td>\n",
       "      <td>0.392496</td>\n",
       "    </tr>\n",
       "    <tr>\n",
       "      <th>3</th>\n",
       "      <td>20003</td>\n",
       "      <td>0.588658</td>\n",
       "    </tr>\n",
       "    <tr>\n",
       "      <th>4</th>\n",
       "      <td>20004</td>\n",
       "      <td>0.783603</td>\n",
       "    </tr>\n",
       "    <tr>\n",
       "      <th>...</th>\n",
       "      <td>...</td>\n",
       "      <td>...</td>\n",
       "    </tr>\n",
       "    <tr>\n",
       "      <th>19995</th>\n",
       "      <td>39995</td>\n",
       "      <td>0.382515</td>\n",
       "    </tr>\n",
       "    <tr>\n",
       "      <th>19996</th>\n",
       "      <td>39996</td>\n",
       "      <td>0.352498</td>\n",
       "    </tr>\n",
       "    <tr>\n",
       "      <th>19997</th>\n",
       "      <td>39997</td>\n",
       "      <td>0.577554</td>\n",
       "    </tr>\n",
       "    <tr>\n",
       "      <th>19998</th>\n",
       "      <td>39998</td>\n",
       "      <td>0.712353</td>\n",
       "    </tr>\n",
       "    <tr>\n",
       "      <th>19999</th>\n",
       "      <td>39999</td>\n",
       "      <td>0.483215</td>\n",
       "    </tr>\n",
       "  </tbody>\n",
       "</table>\n",
       "<p>20000 rows × 2 columns</p>\n",
       "</div>"
      ],
      "text/plain": [
       "          id      pred\n",
       "0      20000  0.640707\n",
       "1      20001  0.636904\n",
       "2      20002  0.392496\n",
       "3      20003  0.588658\n",
       "4      20004  0.783603\n",
       "...      ...       ...\n",
       "19995  39995  0.382515\n",
       "19996  39996  0.352498\n",
       "19997  39997  0.577554\n",
       "19998  39998  0.712353\n",
       "19999  39999  0.483215\n",
       "\n",
       "[20000 rows x 2 columns]"
      ]
     },
     "execution_count": 5,
     "metadata": {},
     "output_type": "execute_result"
    }
   ],
   "source": [
    "# import data\n",
    "sample_submission = pd.read_csv('./tabular-playground-series-nov-2022/sample_submission.csv')\n",
    "sample_submission"
   ]
  },
  {
   "cell_type": "code",
   "execution_count": 6,
   "id": "5dc0230b",
   "metadata": {},
   "outputs": [
    {
     "data": {
      "text/html": [
       "<div>\n",
       "<style scoped>\n",
       "    .dataframe tbody tr th:only-of-type {\n",
       "        vertical-align: middle;\n",
       "    }\n",
       "\n",
       "    .dataframe tbody tr th {\n",
       "        vertical-align: top;\n",
       "    }\n",
       "\n",
       "    .dataframe thead th {\n",
       "        text-align: right;\n",
       "    }\n",
       "</style>\n",
       "<table border=\"1\" class=\"dataframe\">\n",
       "  <thead>\n",
       "    <tr style=\"text-align: right;\">\n",
       "      <th></th>\n",
       "      <th>id</th>\n",
       "      <th>label</th>\n",
       "    </tr>\n",
       "  </thead>\n",
       "  <tbody>\n",
       "    <tr>\n",
       "      <th>0</th>\n",
       "      <td>0</td>\n",
       "      <td>0</td>\n",
       "    </tr>\n",
       "    <tr>\n",
       "      <th>1</th>\n",
       "      <td>1</td>\n",
       "      <td>1</td>\n",
       "    </tr>\n",
       "    <tr>\n",
       "      <th>2</th>\n",
       "      <td>2</td>\n",
       "      <td>1</td>\n",
       "    </tr>\n",
       "    <tr>\n",
       "      <th>3</th>\n",
       "      <td>3</td>\n",
       "      <td>1</td>\n",
       "    </tr>\n",
       "    <tr>\n",
       "      <th>4</th>\n",
       "      <td>4</td>\n",
       "      <td>0</td>\n",
       "    </tr>\n",
       "    <tr>\n",
       "      <th>...</th>\n",
       "      <td>...</td>\n",
       "      <td>...</td>\n",
       "    </tr>\n",
       "    <tr>\n",
       "      <th>19995</th>\n",
       "      <td>19995</td>\n",
       "      <td>1</td>\n",
       "    </tr>\n",
       "    <tr>\n",
       "      <th>19996</th>\n",
       "      <td>19996</td>\n",
       "      <td>1</td>\n",
       "    </tr>\n",
       "    <tr>\n",
       "      <th>19997</th>\n",
       "      <td>19997</td>\n",
       "      <td>0</td>\n",
       "    </tr>\n",
       "    <tr>\n",
       "      <th>19998</th>\n",
       "      <td>19998</td>\n",
       "      <td>0</td>\n",
       "    </tr>\n",
       "    <tr>\n",
       "      <th>19999</th>\n",
       "      <td>19999</td>\n",
       "      <td>1</td>\n",
       "    </tr>\n",
       "  </tbody>\n",
       "</table>\n",
       "<p>20000 rows × 2 columns</p>\n",
       "</div>"
      ],
      "text/plain": [
       "          id  label\n",
       "0          0      0\n",
       "1          1      1\n",
       "2          2      1\n",
       "3          3      1\n",
       "4          4      0\n",
       "...      ...    ...\n",
       "19995  19995      1\n",
       "19996  19996      1\n",
       "19997  19997      0\n",
       "19998  19998      0\n",
       "19999  19999      1\n",
       "\n",
       "[20000 rows x 2 columns]"
      ]
     },
     "execution_count": 6,
     "metadata": {},
     "output_type": "execute_result"
    }
   ],
   "source": [
    "# import data\n",
    "train_labels = pd.read_csv('./tabular-playground-series-nov-2022/train_labels.csv')\n",
    "train_labels"
   ]
  },
  {
   "cell_type": "code",
   "execution_count": 9,
   "id": "c268a637",
   "metadata": {},
   "outputs": [
    {
     "data": {
      "text/html": [
       "<div>\n",
       "<style scoped>\n",
       "    .dataframe tbody tr th:only-of-type {\n",
       "        vertical-align: middle;\n",
       "    }\n",
       "\n",
       "    .dataframe tbody tr th {\n",
       "        vertical-align: top;\n",
       "    }\n",
       "\n",
       "    .dataframe thead th {\n",
       "        text-align: right;\n",
       "    }\n",
       "</style>\n",
       "<table border=\"1\" class=\"dataframe\">\n",
       "  <thead>\n",
       "    <tr style=\"text-align: right;\">\n",
       "      <th></th>\n",
       "      <th>id</th>\n",
       "      <th>pred</th>\n",
       "    </tr>\n",
       "  </thead>\n",
       "  <tbody>\n",
       "    <tr>\n",
       "      <th>0</th>\n",
       "      <td>0</td>\n",
       "      <td>0.709336</td>\n",
       "    </tr>\n",
       "    <tr>\n",
       "      <th>1</th>\n",
       "      <td>1</td>\n",
       "      <td>0.452988</td>\n",
       "    </tr>\n",
       "    <tr>\n",
       "      <th>2</th>\n",
       "      <td>2</td>\n",
       "      <td>0.675462</td>\n",
       "    </tr>\n",
       "    <tr>\n",
       "      <th>3</th>\n",
       "      <td>3</td>\n",
       "      <td>0.481046</td>\n",
       "    </tr>\n",
       "    <tr>\n",
       "      <th>4</th>\n",
       "      <td>4</td>\n",
       "      <td>0.957339</td>\n",
       "    </tr>\n",
       "    <tr>\n",
       "      <th>...</th>\n",
       "      <td>...</td>\n",
       "      <td>...</td>\n",
       "    </tr>\n",
       "    <tr>\n",
       "      <th>39995</th>\n",
       "      <td>39995</td>\n",
       "      <td>0.382515</td>\n",
       "    </tr>\n",
       "    <tr>\n",
       "      <th>39996</th>\n",
       "      <td>39996</td>\n",
       "      <td>0.352498</td>\n",
       "    </tr>\n",
       "    <tr>\n",
       "      <th>39997</th>\n",
       "      <td>39997</td>\n",
       "      <td>0.577554</td>\n",
       "    </tr>\n",
       "    <tr>\n",
       "      <th>39998</th>\n",
       "      <td>39998</td>\n",
       "      <td>0.712353</td>\n",
       "    </tr>\n",
       "    <tr>\n",
       "      <th>39999</th>\n",
       "      <td>39999</td>\n",
       "      <td>0.483215</td>\n",
       "    </tr>\n",
       "  </tbody>\n",
       "</table>\n",
       "<p>40000 rows × 2 columns</p>\n",
       "</div>"
      ],
      "text/plain": [
       "          id      pred\n",
       "0          0  0.709336\n",
       "1          1  0.452988\n",
       "2          2  0.675462\n",
       "3          3  0.481046\n",
       "4          4  0.957339\n",
       "...      ...       ...\n",
       "39995  39995  0.382515\n",
       "39996  39996  0.352498\n",
       "39997  39997  0.577554\n",
       "39998  39998  0.712353\n",
       "39999  39999  0.483215\n",
       "\n",
       "[40000 rows x 2 columns]"
      ]
     },
     "execution_count": 9,
     "metadata": {},
     "output_type": "execute_result"
    }
   ],
   "source": [
    "# import data\n",
    "_6222863195 = pd.read_csv('./tabular-playground-series-nov-2022/submission_files/0.6222863195.csv')\n",
    "_6222863195"
   ]
  },
  {
   "cell_type": "markdown",
   "id": "dd38ac8f",
   "metadata": {},
   "source": [
    "### "
   ]
  },
  {
   "cell_type": "markdown",
   "id": "8df050fe",
   "metadata": {},
   "source": [
    "## Cloning\n",
    "\n",
    "<br>\n",
    "\n",
    "### Reference: \n",
    "- https://www.kaggle.com/code/hasanbasriakcay/tpsnov22-pseudo-labels-lgbm-xgb-lb-0-514"
   ]
  },
  {
   "cell_type": "markdown",
   "id": "aa3d6fb1",
   "metadata": {},
   "source": [
    "<br>"
   ]
  },
  {
   "cell_type": "markdown",
   "id": "b7317749",
   "metadata": {},
   "source": [
    "## Introduction"
   ]
  },
  {
   "cell_type": "markdown",
   "id": "f6eb0d70",
   "metadata": {},
   "source": [
    "<br>"
   ]
  },
  {
   "cell_type": "code",
   "execution_count": 4,
   "id": "f31e229b",
   "metadata": {},
   "outputs": [],
   "source": [
    "# import\n",
    "\n",
    "import pandas as pd\n",
    "import numpy as np\n",
    "import matplotlib.pyplot as plt\n",
    "import seaborn as sns\n",
    "import gc\n",
    "import warnings\n",
    "import datetime as dt\n",
    "import math\n",
    "from tqdm.auto import tqdm\n",
    "import glob\n",
    "\n",
    "from scipy.stats.mstats import gmean\n",
    "from scipy.stats import hmean\n",
    "from scipy.stats import spearmanr\n",
    "\n",
    "np.random.seed(0)\n",
    "warnings.simplefilter(\"ignore\")\n",
    "\n",
    "VAR_TH = 1.0e-03\n",
    "PSEUDO_NFOLDS = 5\n",
    "PSEUDO_TH = 0.94\n",
    "CLIP = True\n",
    "VAR_SMOOTHING = 1818"
   ]
  },
  {
   "cell_type": "code",
   "execution_count": 2,
   "id": "21449401",
   "metadata": {},
   "outputs": [
    {
     "name": "stdout",
     "output_type": "stream",
     "text": [
      "\u001b[1m\u001b[36mtabular-playground-series-nov-2022\u001b[m\u001b[m\r\n",
      "tabular-playground-series-nov-2022.zip\r\n",
      "tabular_playground_series_nov_2022.ipynb\r\n",
      "train.ftr\r\n",
      "train.ftr.zip\r\n"
     ]
    }
   ],
   "source": [
    "!ls"
   ]
  },
  {
   "cell_type": "code",
   "execution_count": 9,
   "id": "b23cf3cf",
   "metadata": {},
   "outputs": [
    {
     "data": {
      "text/html": [
       "<div>\n",
       "<style scoped>\n",
       "    .dataframe tbody tr th:only-of-type {\n",
       "        vertical-align: middle;\n",
       "    }\n",
       "\n",
       "    .dataframe tbody tr th {\n",
       "        vertical-align: top;\n",
       "    }\n",
       "\n",
       "    .dataframe thead th {\n",
       "        text-align: right;\n",
       "    }\n",
       "</style>\n",
       "<table border=\"1\" class=\"dataframe\">\n",
       "  <thead>\n",
       "    <tr style=\"text-align: right;\">\n",
       "      <th></th>\n",
       "      <th>sub_0</th>\n",
       "      <th>sub_1</th>\n",
       "      <th>sub_2</th>\n",
       "      <th>sub_3</th>\n",
       "      <th>sub_4</th>\n",
       "      <th>sub_5</th>\n",
       "      <th>sub_6</th>\n",
       "      <th>sub_7</th>\n",
       "      <th>sub_8</th>\n",
       "      <th>sub_9</th>\n",
       "      <th>...</th>\n",
       "      <th>sub_4990</th>\n",
       "      <th>sub_4991</th>\n",
       "      <th>sub_4992</th>\n",
       "      <th>sub_4993</th>\n",
       "      <th>sub_4994</th>\n",
       "      <th>sub_4995</th>\n",
       "      <th>sub_4996</th>\n",
       "      <th>sub_4997</th>\n",
       "      <th>sub_4998</th>\n",
       "      <th>sub_4999</th>\n",
       "    </tr>\n",
       "  </thead>\n",
       "  <tbody>\n",
       "    <tr>\n",
       "      <th>0</th>\n",
       "      <td>0.709336</td>\n",
       "      <td>0.799007</td>\n",
       "      <td>0.851891</td>\n",
       "      <td>0.537158</td>\n",
       "      <td>0.623930</td>\n",
       "      <td>0.705970</td>\n",
       "      <td>0.503437</td>\n",
       "      <td>0.633185</td>\n",
       "      <td>0.641550</td>\n",
       "      <td>0.666604</td>\n",
       "      <td>...</td>\n",
       "      <td>0.769207</td>\n",
       "      <td>0.750250</td>\n",
       "      <td>0.663370</td>\n",
       "      <td>0.739333</td>\n",
       "      <td>0.822384</td>\n",
       "      <td>0.749498</td>\n",
       "      <td>0.729800</td>\n",
       "      <td>0.867847</td>\n",
       "      <td>0.745888</td>\n",
       "      <td>0.787</td>\n",
       "    </tr>\n",
       "    <tr>\n",
       "      <th>1</th>\n",
       "      <td>0.452988</td>\n",
       "      <td>0.364453</td>\n",
       "      <td>0.567582</td>\n",
       "      <td>0.354468</td>\n",
       "      <td>0.513818</td>\n",
       "      <td>0.584119</td>\n",
       "      <td>0.454809</td>\n",
       "      <td>0.238501</td>\n",
       "      <td>0.472171</td>\n",
       "      <td>0.522314</td>\n",
       "      <td>...</td>\n",
       "      <td>0.640052</td>\n",
       "      <td>0.794052</td>\n",
       "      <td>0.721298</td>\n",
       "      <td>0.804369</td>\n",
       "      <td>0.620626</td>\n",
       "      <td>0.733606</td>\n",
       "      <td>0.816942</td>\n",
       "      <td>0.814229</td>\n",
       "      <td>0.598331</td>\n",
       "      <td>0.547</td>\n",
       "    </tr>\n",
       "    <tr>\n",
       "      <th>2</th>\n",
       "      <td>0.675462</td>\n",
       "      <td>0.842260</td>\n",
       "      <td>0.800013</td>\n",
       "      <td>0.525229</td>\n",
       "      <td>0.692071</td>\n",
       "      <td>0.715418</td>\n",
       "      <td>0.651008</td>\n",
       "      <td>0.609124</td>\n",
       "      <td>0.691198</td>\n",
       "      <td>0.609994</td>\n",
       "      <td>...</td>\n",
       "      <td>0.812841</td>\n",
       "      <td>0.779859</td>\n",
       "      <td>0.865657</td>\n",
       "      <td>0.828493</td>\n",
       "      <td>0.763010</td>\n",
       "      <td>0.802883</td>\n",
       "      <td>0.806891</td>\n",
       "      <td>0.896058</td>\n",
       "      <td>0.855776</td>\n",
       "      <td>0.667</td>\n",
       "    </tr>\n",
       "    <tr>\n",
       "      <th>3</th>\n",
       "      <td>0.481046</td>\n",
       "      <td>0.577118</td>\n",
       "      <td>0.683032</td>\n",
       "      <td>0.541356</td>\n",
       "      <td>0.630088</td>\n",
       "      <td>0.664514</td>\n",
       "      <td>0.413373</td>\n",
       "      <td>0.508210</td>\n",
       "      <td>0.526140</td>\n",
       "      <td>0.584565</td>\n",
       "      <td>...</td>\n",
       "      <td>0.824703</td>\n",
       "      <td>0.799698</td>\n",
       "      <td>0.800130</td>\n",
       "      <td>0.716604</td>\n",
       "      <td>0.603779</td>\n",
       "      <td>0.708499</td>\n",
       "      <td>0.844837</td>\n",
       "      <td>0.853057</td>\n",
       "      <td>0.850657</td>\n",
       "      <td>0.622</td>\n",
       "    </tr>\n",
       "    <tr>\n",
       "      <th>4</th>\n",
       "      <td>0.957339</td>\n",
       "      <td>0.910337</td>\n",
       "      <td>0.917322</td>\n",
       "      <td>0.874487</td>\n",
       "      <td>0.787595</td>\n",
       "      <td>0.854273</td>\n",
       "      <td>0.843846</td>\n",
       "      <td>0.876749</td>\n",
       "      <td>0.821128</td>\n",
       "      <td>0.913054</td>\n",
       "      <td>...</td>\n",
       "      <td>0.934803</td>\n",
       "      <td>0.900150</td>\n",
       "      <td>0.960911</td>\n",
       "      <td>0.906037</td>\n",
       "      <td>0.961240</td>\n",
       "      <td>0.935608</td>\n",
       "      <td>0.889757</td>\n",
       "      <td>0.978505</td>\n",
       "      <td>0.953681</td>\n",
       "      <td>0.934</td>\n",
       "    </tr>\n",
       "  </tbody>\n",
       "</table>\n",
       "<p>5 rows × 5000 columns</p>\n",
       "</div>"
      ],
      "text/plain": [
       "      sub_0     sub_1     sub_2     sub_3     sub_4     sub_5     sub_6  \\\n",
       "0  0.709336  0.799007  0.851891  0.537158  0.623930  0.705970  0.503437   \n",
       "1  0.452988  0.364453  0.567582  0.354468  0.513818  0.584119  0.454809   \n",
       "2  0.675462  0.842260  0.800013  0.525229  0.692071  0.715418  0.651008   \n",
       "3  0.481046  0.577118  0.683032  0.541356  0.630088  0.664514  0.413373   \n",
       "4  0.957339  0.910337  0.917322  0.874487  0.787595  0.854273  0.843846   \n",
       "\n",
       "      sub_7     sub_8     sub_9  ...  sub_4990  sub_4991  sub_4992  sub_4993  \\\n",
       "0  0.633185  0.641550  0.666604  ...  0.769207  0.750250  0.663370  0.739333   \n",
       "1  0.238501  0.472171  0.522314  ...  0.640052  0.794052  0.721298  0.804369   \n",
       "2  0.609124  0.691198  0.609994  ...  0.812841  0.779859  0.865657  0.828493   \n",
       "3  0.508210  0.526140  0.584565  ...  0.824703  0.799698  0.800130  0.716604   \n",
       "4  0.876749  0.821128  0.913054  ...  0.934803  0.900150  0.960911  0.906037   \n",
       "\n",
       "   sub_4994  sub_4995  sub_4996  sub_4997  sub_4998  sub_4999  \n",
       "0  0.822384  0.749498  0.729800  0.867847  0.745888     0.787  \n",
       "1  0.620626  0.733606  0.816942  0.814229  0.598331     0.547  \n",
       "2  0.763010  0.802883  0.806891  0.896058  0.855776     0.667  \n",
       "3  0.603779  0.708499  0.844837  0.853057  0.850657     0.622  \n",
       "4  0.961240  0.935608  0.889757  0.978505  0.953681     0.934  \n",
       "\n",
       "[5 rows x 5000 columns]"
      ]
     },
     "metadata": {},
     "output_type": "display_data"
    },
    {
     "data": {
      "text/html": [
       "<div>\n",
       "<style scoped>\n",
       "    .dataframe tbody tr th:only-of-type {\n",
       "        vertical-align: middle;\n",
       "    }\n",
       "\n",
       "    .dataframe tbody tr th {\n",
       "        vertical-align: top;\n",
       "    }\n",
       "\n",
       "    .dataframe thead th {\n",
       "        text-align: right;\n",
       "    }\n",
       "</style>\n",
       "<table border=\"1\" class=\"dataframe\">\n",
       "  <thead>\n",
       "    <tr style=\"text-align: right;\">\n",
       "      <th></th>\n",
       "      <th>id</th>\n",
       "      <th>pred</th>\n",
       "    </tr>\n",
       "  </thead>\n",
       "  <tbody>\n",
       "    <tr>\n",
       "      <th>0</th>\n",
       "      <td>20000</td>\n",
       "      <td>0.640707</td>\n",
       "    </tr>\n",
       "    <tr>\n",
       "      <th>1</th>\n",
       "      <td>20001</td>\n",
       "      <td>0.636904</td>\n",
       "    </tr>\n",
       "    <tr>\n",
       "      <th>2</th>\n",
       "      <td>20002</td>\n",
       "      <td>0.392496</td>\n",
       "    </tr>\n",
       "    <tr>\n",
       "      <th>3</th>\n",
       "      <td>20003</td>\n",
       "      <td>0.588658</td>\n",
       "    </tr>\n",
       "    <tr>\n",
       "      <th>4</th>\n",
       "      <td>20004</td>\n",
       "      <td>0.783603</td>\n",
       "    </tr>\n",
       "  </tbody>\n",
       "</table>\n",
       "</div>"
      ],
      "text/plain": [
       "      id      pred\n",
       "0  20000  0.640707\n",
       "1  20001  0.636904\n",
       "2  20002  0.392496\n",
       "3  20003  0.588658\n",
       "4  20004  0.783603"
      ]
     },
     "metadata": {},
     "output_type": "display_data"
    }
   ],
   "source": [
    "data = pd.read_feather('./train.ftr')\n",
    "sub = pd.read_csv('./tabular-playground-series-nov-2022/sample_submission.csv')\n",
    "y = pd.read_csv('./tabular-playground-series-nov-2022/train_labels.csv')\n",
    "\n",
    "train = data.loc[:19999, :]\n",
    "test = data.loc[20000:, :]\n",
    "\n",
    "display(train.head())\n",
    "display(sub.head())"
   ]
  },
  {
   "cell_type": "code",
   "execution_count": 10,
   "id": "c9029012",
   "metadata": {},
   "outputs": [
    {
     "name": "stdout",
     "output_type": "stream",
     "text": [
      "train shape: (20000, 5000)\n",
      "test shape: (20000, 5000)\n",
      "sub shape: (20000, 2)\n"
     ]
    }
   ],
   "source": [
    "print(\"train shape:\", train.shape)\n",
    "print(\"test shape:\", test.shape)\n",
    "print(\"sub shape:\", sub.shape)"
   ]
  },
  {
   "cell_type": "code",
   "execution_count": 11,
   "id": "0b5b6591",
   "metadata": {},
   "outputs": [
    {
     "name": "stdout",
     "output_type": "stream",
     "text": [
      "train nan value sum: 0\n",
      "test nan value sum: 0\n"
     ]
    }
   ],
   "source": [
    "print(\"train nan value sum:\", train.isna().sum().sum())\n",
    "print(\"test nan value sum:\", test.isna().sum().sum())"
   ]
  },
  {
   "cell_type": "code",
   "execution_count": 12,
   "id": "ac18da78",
   "metadata": {},
   "outputs": [
    {
     "name": "stdout",
     "output_type": "stream",
     "text": [
      "train dublicated value sum: 0\n",
      "test dublicated value sum: 0\n"
     ]
    }
   ],
   "source": [
    "print(\"train dublicated value sum:\", train.duplicated().sum().sum())\n",
    "print(\"test dublicated value sum:\", test.duplicated().sum().sum())"
   ]
  },
  {
   "cell_type": "markdown",
   "id": "cf42a5e3",
   "metadata": {},
   "source": [
    "<br>"
   ]
  },
  {
   "cell_type": "markdown",
   "id": "9cb73cb5",
   "metadata": {},
   "source": [
    "## Preprocesses"
   ]
  },
  {
   "cell_type": "markdown",
   "id": "0b784fd0",
   "metadata": {},
   "source": [
    "<br>"
   ]
  },
  {
   "cell_type": "code",
   "execution_count": 13,
   "id": "78cafcdd",
   "metadata": {},
   "outputs": [
    {
     "data": {
      "text/plain": [
       "sub_1825    4.930627e-32\n",
       "sub_2356    1.000000e+00\n",
       "sub_4963    1.000000e+00\n",
       "sub_1691    1.000000e+00\n",
       "sub_1685    1.000000e+00\n",
       "                ...     \n",
       "sub_3226    1.000000e+00\n",
       "sub_2618    1.000000e+00\n",
       "sub_684     1.000000e+00\n",
       "sub_1148    1.000000e+00\n",
       "sub_1824             NaN\n",
       "Length: 5000, dtype: float64"
      ]
     },
     "execution_count": 13,
     "metadata": {},
     "output_type": "execute_result"
    }
   ],
   "source": [
    "normalized_train = (train - train.mean()) / train.std()\n",
    "normalized_train.var().sort_values()"
   ]
  },
  {
   "cell_type": "code",
   "execution_count": 14,
   "id": "71298006",
   "metadata": {},
   "outputs": [
    {
     "name": "stdout",
     "output_type": "stream",
     "text": [
      "train sub_1824 unique : [0.491104]\n",
      "test sub_1824 unique : [0.491104]\n",
      "train sub_1825 unique : [0.51]\n",
      "test sub_1825 unique : [0.51]\n"
     ]
    }
   ],
   "source": [
    "for feature in [\"sub_1824\", \"sub_1825\"]:\n",
    "    print(f\"train {feature} unique : {train[feature].unique()}\")\n",
    "    print(f\"test {feature} unique : {test[feature].unique()}\")"
   ]
  },
  {
   "cell_type": "code",
   "execution_count": 15,
   "id": "f3e51619",
   "metadata": {},
   "outputs": [
    {
     "data": {
      "text/plain": [
       "(1.356611, -0.336521)"
      ]
     },
     "execution_count": 15,
     "metadata": {},
     "output_type": "execute_result"
    }
   ],
   "source": [
    "train.max().max(), train.min().min()"
   ]
  },
  {
   "cell_type": "code",
   "execution_count": 16,
   "id": "ebb65b32",
   "metadata": {},
   "outputs": [
    {
     "name": "stdout",
     "output_type": "stream",
     "text": [
      "1.0 -0.0\n"
     ]
    }
   ],
   "source": [
    "if CLIP:\n",
    "    train = train.clip(0,1)\n",
    "    test = test.clip(0,1)\n",
    "    print(train.max().max(), train.min().min())"
   ]
  },
  {
   "cell_type": "markdown",
   "id": "7487b287",
   "metadata": {},
   "source": [
    "<br>"
   ]
  },
  {
   "cell_type": "markdown",
   "id": "9422e09b",
   "metadata": {},
   "source": [
    "## Feature Selection"
   ]
  },
  {
   "cell_type": "markdown",
   "id": "344369ff",
   "metadata": {},
   "source": [
    "<br>"
   ]
  },
  {
   "cell_type": "code",
   "execution_count": null,
   "id": "d077bd3b",
   "metadata": {},
   "outputs": [],
   "source": [
    "sub_file_names = sorted(glob.glob('./tabular-playground-series-nov-2022/submission_files/*.csv'))\n",
    "scores_all = [float(file_name.split('/')[-1][:-4]) for file_name in sub_file_names]\n",
    "print(\"sub_file_names len:\", len(sub_file_names))\n",
    "\n",
    "# ref: https://www.kaggle.com/code/takanashihumbert/drop-4000-features-lb-0-51530\n",
    "best = 'sub_0'\n",
    "else_cols = [f for f in data.columns if f != best]\n",
    "drop_cols = []\n",
    "for col, score in tqdm(zip(else_cols, scores_all)):\n",
    "    logloss = score\n",
    "    r, _ = spearmanr(data[best].values, data[col].values)\n",
    "    if r > 0.98 or logloss > 0.680:\n",
    "        drop_cols.append(col)\n",
    "\n",
    "del data\n",
    "gc.collect()"
   ]
  },
  {
   "cell_type": "code",
   "execution_count": null,
   "id": "2d697ecc",
   "metadata": {},
   "outputs": [],
   "source": []
  },
  {
   "cell_type": "code",
   "execution_count": null,
   "id": "b9950a08",
   "metadata": {},
   "outputs": [],
   "source": []
  },
  {
   "cell_type": "code",
   "execution_count": null,
   "id": "4d4e98ca",
   "metadata": {},
   "outputs": [],
   "source": []
  },
  {
   "cell_type": "code",
   "execution_count": null,
   "id": "f060ceb8",
   "metadata": {},
   "outputs": [],
   "source": []
  }
 ],
 "metadata": {
  "kernelspec": {
   "display_name": "Python 3 (ipykernel)",
   "language": "python",
   "name": "python3"
  },
  "language_info": {
   "codemirror_mode": {
    "name": "ipython",
    "version": 3
   },
   "file_extension": ".py",
   "mimetype": "text/x-python",
   "name": "python",
   "nbconvert_exporter": "python",
   "pygments_lexer": "ipython3",
   "version": "3.8.13"
  }
 },
 "nbformat": 4,
 "nbformat_minor": 5
}
