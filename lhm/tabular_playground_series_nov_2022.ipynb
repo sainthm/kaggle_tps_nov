{
 "cells": [
  {
   "cell_type": "markdown",
   "id": "b04d22f0",
   "metadata": {},
   "source": [
    "# Tabular-playground-series-nov-2022"
   ]
  },
  {
   "cell_type": "markdown",
   "id": "59ce3a83",
   "metadata": {},
   "source": [
    "<br>"
   ]
  },
  {
   "cell_type": "markdown",
   "id": "ef847523",
   "metadata": {},
   "source": [
    "## Details of competition\n",
    "#### URL: https://www.kaggle.com/competitions/tabular-playground-series-nov-2022/overview\n",
    "\n",
    "<br>\n",
    "\n",
    "#### Topic\n",
    "Provide a fun and approachable-for-anyone tabular dataset to model.\n",
    "\n",
    "<br>\n",
    "\n",
    "#### Background\n",
    "\n",
    "<br>\n",
    "\n",
    "##### About the Tabular Playground Series\n",
    "Kaggle competitions are incredibly fun and rewarding, but they can also be intimidating for people who are relatively new in their data science journey. In the past, we've launched many Playground competitions that are more approachable than our Featured competitions and thus, more beginner-friendly.\n",
    "\n",
    "<br>\n",
    "\n",
    "**The goal of these competitions is to provide a fun and approachable-for-anyone tabular dataset to model.** These competitions are a great choice for people looking for something in between the Titanic Getting Started competition and the Featured competitions. If you're an established competitions master or grandmaster, these probably won't be much of a challenge for you; thus, we encourage you to avoid saturating the leaderboard.\n",
    "\n",
    "<br>\n",
    "\n",
    "For each monthly competition, we'll be offering Kaggle Merchandise for the top three teams. And finally, because we want these competitions to be more about learning, we're limiting team sizes to 3 individuals."
   ]
  },
  {
   "cell_type": "markdown",
   "id": "0645e460",
   "metadata": {},
   "source": [
    "### "
   ]
  },
  {
   "cell_type": "markdown",
   "id": "ad7c689c",
   "metadata": {},
   "source": [
    "## 한 줄 요약!!\n",
    "\n",
    "<br>\n",
    "\n",
    "- **준비된 뒷토막 + 프로젝트 진행(앙상블 + 블랜딩)하는 앞토막 >> 모델 향상 >> 결과 제출**"
   ]
  },
  {
   "cell_type": "markdown",
   "id": "f823cb78",
   "metadata": {},
   "source": []
  },
  {
   "cell_type": "markdown",
   "id": "29db19e8",
   "metadata": {},
   "source": [
    "## Files 항목\n",
    "\n",
    "### submission_files/\n",
    "\n",
    "- 앞 반토막에 대한 이진 분류 모델 예측값 파일 모음\n",
    "\n",
    "<br>\n",
    "\n",
    "### train_labels.csv\n",
    "\n",
    "- 제출 파일에 대한 앞 반토막 실측값\n",
    "\n",
    "\n",
    "<br>\n",
    "\n",
    "\n",
    "### sample_submission.csv\n",
    "\n",
    "- 뒷토막만 정상 데이터인 샘플 제출 파일\n",
    "\n",
    "\n",
    "- 포맷(ids)은 정상임\n",
    "\n",
    "\n",
    "- 점수 향상을 위해, 앞 반토막에 대해 추가 작업 진행 (데이터 섞기)\n",
    "\n",
    "\n"
   ]
  },
  {
   "cell_type": "markdown",
   "id": "54ddd9e2",
   "metadata": {},
   "source": [
    "### "
   ]
  },
  {
   "cell_type": "markdown",
   "id": "d018577d",
   "metadata": {},
   "source": [
    "## 데이터 관련 이해사항:\n",
    "\n",
    "<br>\n",
    "\n",
    "### submission_files(folder)\n",
    "- 이진 분류 작업에 대한 예측값들이 저장\n",
    "\n",
    "\n",
    "- 각 파일 이름은 로그 손실(logloss) 점수\n",
    "\n",
    "\n",
    "- 실측 라벨 파일(train_label?)의 예측 행의 절반에 대한 로그 손실 점수가 파일 제목\n",
    "\n",
    "\n",
    "- 훌륭한 트레이닝 세트가 됨\n",
    "\n",
    "<br>\n",
    "\n",
    "### train_labels.csv\n",
    "\n",
    "- submission_files의 파일의 행에 대한 실측 정보값 제공\n",
    "\n",
    "\n",
    "<br>\n",
    "\n",
    "\n",
    "### sample_submission.csv\n",
    "\n",
    "- 이해가 어느정도 된 부분!\n",
    "\n",
    "- 나머지 뒷부분 반토막(20000~39999)에 대한 결과 예측을 제출!!"
   ]
  },
  {
   "cell_type": "markdown",
   "id": "8e9e7586",
   "metadata": {},
   "source": [
    "### "
   ]
  },
  {
   "cell_type": "markdown",
   "id": "f05a8115",
   "metadata": {},
   "source": [
    "## 우리의 목표\n",
    "\n",
    "- 앙상블 활용!\n",
    "\n",
    "\n",
    "- 다양한 submission file들의 앙상블을 통해, 모델 예측 성능을 높이는 것!!\n",
    "\n",
    "\n",
    "- submission_files(반토막짜리 행에 대한 실측값들)들이 있으므로 블랜딩(여러 데이터를 합쳐서)하면 더 좋은 결과를 얻었는지 아닌지 알 수 있을 것임!!\n",
    "\n",
    "<br>\n",
    "\n",
    "### 요약\n",
    "\n",
    "1. 두 파일을 합쳐서 반토막 데이터에 대한 점수(예측값)를 확인할 수 있음!!\n",
    "\n",
    "\n",
    "2. 점수를 계속해서 개선해나갈 수 있음!!\n",
    "\n",
    "\n",
    "3. 점수를 (극한으로) 개선 후, 나머지 행들에 대해, 리더보드에 제출할 수 있음!! 🥸\n",
    "\n"
   ]
  },
  {
   "cell_type": "markdown",
   "id": "9a505eed",
   "metadata": {},
   "source": [
    "<br>"
   ]
  },
  {
   "cell_type": "code",
   "execution_count": 1,
   "id": "b2586e3d",
   "metadata": {},
   "outputs": [
    {
     "name": "stdout",
     "output_type": "stream",
     "text": [
      "sample_submission.csv \u001b[1m\u001b[36msubmission_files\u001b[m\u001b[m      train_labels.csv\r\n"
     ]
    }
   ],
   "source": [
    "# import data\n",
    "# !ls\n",
    "!ls ./tabular-playground-series-nov-2022/"
   ]
  },
  {
   "cell_type": "code",
   "execution_count": 2,
   "id": "9eb3e37f",
   "metadata": {},
   "outputs": [],
   "source": [
    "import pandas as pd"
   ]
  },
  {
   "cell_type": "code",
   "execution_count": 3,
   "id": "1d416c6d",
   "metadata": {},
   "outputs": [
    {
     "data": {
      "text/html": [
       "<div>\n",
       "<style scoped>\n",
       "    .dataframe tbody tr th:only-of-type {\n",
       "        vertical-align: middle;\n",
       "    }\n",
       "\n",
       "    .dataframe tbody tr th {\n",
       "        vertical-align: top;\n",
       "    }\n",
       "\n",
       "    .dataframe thead th {\n",
       "        text-align: right;\n",
       "    }\n",
       "</style>\n",
       "<table border=\"1\" class=\"dataframe\">\n",
       "  <thead>\n",
       "    <tr style=\"text-align: right;\">\n",
       "      <th></th>\n",
       "      <th>id</th>\n",
       "      <th>pred</th>\n",
       "    </tr>\n",
       "  </thead>\n",
       "  <tbody>\n",
       "    <tr>\n",
       "      <th>0</th>\n",
       "      <td>20000</td>\n",
       "      <td>0.640707</td>\n",
       "    </tr>\n",
       "    <tr>\n",
       "      <th>1</th>\n",
       "      <td>20001</td>\n",
       "      <td>0.636904</td>\n",
       "    </tr>\n",
       "    <tr>\n",
       "      <th>2</th>\n",
       "      <td>20002</td>\n",
       "      <td>0.392496</td>\n",
       "    </tr>\n",
       "    <tr>\n",
       "      <th>3</th>\n",
       "      <td>20003</td>\n",
       "      <td>0.588658</td>\n",
       "    </tr>\n",
       "    <tr>\n",
       "      <th>4</th>\n",
       "      <td>20004</td>\n",
       "      <td>0.783603</td>\n",
       "    </tr>\n",
       "    <tr>\n",
       "      <th>...</th>\n",
       "      <td>...</td>\n",
       "      <td>...</td>\n",
       "    </tr>\n",
       "    <tr>\n",
       "      <th>19995</th>\n",
       "      <td>39995</td>\n",
       "      <td>0.382515</td>\n",
       "    </tr>\n",
       "    <tr>\n",
       "      <th>19996</th>\n",
       "      <td>39996</td>\n",
       "      <td>0.352498</td>\n",
       "    </tr>\n",
       "    <tr>\n",
       "      <th>19997</th>\n",
       "      <td>39997</td>\n",
       "      <td>0.577554</td>\n",
       "    </tr>\n",
       "    <tr>\n",
       "      <th>19998</th>\n",
       "      <td>39998</td>\n",
       "      <td>0.712353</td>\n",
       "    </tr>\n",
       "    <tr>\n",
       "      <th>19999</th>\n",
       "      <td>39999</td>\n",
       "      <td>0.483215</td>\n",
       "    </tr>\n",
       "  </tbody>\n",
       "</table>\n",
       "<p>20000 rows × 2 columns</p>\n",
       "</div>"
      ],
      "text/plain": [
       "          id      pred\n",
       "0      20000  0.640707\n",
       "1      20001  0.636904\n",
       "2      20002  0.392496\n",
       "3      20003  0.588658\n",
       "4      20004  0.783603\n",
       "...      ...       ...\n",
       "19995  39995  0.382515\n",
       "19996  39996  0.352498\n",
       "19997  39997  0.577554\n",
       "19998  39998  0.712353\n",
       "19999  39999  0.483215\n",
       "\n",
       "[20000 rows x 2 columns]"
      ]
     },
     "execution_count": 3,
     "metadata": {},
     "output_type": "execute_result"
    }
   ],
   "source": [
    "# import data\n",
    "sample_submission = pd.read_csv('./tabular-playground-series-nov-2022/sample_submission.csv')\n",
    "sample_submission"
   ]
  },
  {
   "cell_type": "code",
   "execution_count": 4,
   "id": "5dc0230b",
   "metadata": {},
   "outputs": [
    {
     "data": {
      "text/html": [
       "<div>\n",
       "<style scoped>\n",
       "    .dataframe tbody tr th:only-of-type {\n",
       "        vertical-align: middle;\n",
       "    }\n",
       "\n",
       "    .dataframe tbody tr th {\n",
       "        vertical-align: top;\n",
       "    }\n",
       "\n",
       "    .dataframe thead th {\n",
       "        text-align: right;\n",
       "    }\n",
       "</style>\n",
       "<table border=\"1\" class=\"dataframe\">\n",
       "  <thead>\n",
       "    <tr style=\"text-align: right;\">\n",
       "      <th></th>\n",
       "      <th>id</th>\n",
       "      <th>label</th>\n",
       "    </tr>\n",
       "  </thead>\n",
       "  <tbody>\n",
       "    <tr>\n",
       "      <th>0</th>\n",
       "      <td>0</td>\n",
       "      <td>0</td>\n",
       "    </tr>\n",
       "    <tr>\n",
       "      <th>1</th>\n",
       "      <td>1</td>\n",
       "      <td>1</td>\n",
       "    </tr>\n",
       "    <tr>\n",
       "      <th>2</th>\n",
       "      <td>2</td>\n",
       "      <td>1</td>\n",
       "    </tr>\n",
       "    <tr>\n",
       "      <th>3</th>\n",
       "      <td>3</td>\n",
       "      <td>1</td>\n",
       "    </tr>\n",
       "    <tr>\n",
       "      <th>4</th>\n",
       "      <td>4</td>\n",
       "      <td>0</td>\n",
       "    </tr>\n",
       "    <tr>\n",
       "      <th>...</th>\n",
       "      <td>...</td>\n",
       "      <td>...</td>\n",
       "    </tr>\n",
       "    <tr>\n",
       "      <th>19995</th>\n",
       "      <td>19995</td>\n",
       "      <td>1</td>\n",
       "    </tr>\n",
       "    <tr>\n",
       "      <th>19996</th>\n",
       "      <td>19996</td>\n",
       "      <td>1</td>\n",
       "    </tr>\n",
       "    <tr>\n",
       "      <th>19997</th>\n",
       "      <td>19997</td>\n",
       "      <td>0</td>\n",
       "    </tr>\n",
       "    <tr>\n",
       "      <th>19998</th>\n",
       "      <td>19998</td>\n",
       "      <td>0</td>\n",
       "    </tr>\n",
       "    <tr>\n",
       "      <th>19999</th>\n",
       "      <td>19999</td>\n",
       "      <td>1</td>\n",
       "    </tr>\n",
       "  </tbody>\n",
       "</table>\n",
       "<p>20000 rows × 2 columns</p>\n",
       "</div>"
      ],
      "text/plain": [
       "          id  label\n",
       "0          0      0\n",
       "1          1      1\n",
       "2          2      1\n",
       "3          3      1\n",
       "4          4      0\n",
       "...      ...    ...\n",
       "19995  19995      1\n",
       "19996  19996      1\n",
       "19997  19997      0\n",
       "19998  19998      0\n",
       "19999  19999      1\n",
       "\n",
       "[20000 rows x 2 columns]"
      ]
     },
     "execution_count": 4,
     "metadata": {},
     "output_type": "execute_result"
    }
   ],
   "source": [
    "# import data\n",
    "train_labels = pd.read_csv('./tabular-playground-series-nov-2022/train_labels.csv')\n",
    "train_labels"
   ]
  },
  {
   "cell_type": "code",
   "execution_count": 5,
   "id": "c268a637",
   "metadata": {},
   "outputs": [
    {
     "data": {
      "text/html": [
       "<div>\n",
       "<style scoped>\n",
       "    .dataframe tbody tr th:only-of-type {\n",
       "        vertical-align: middle;\n",
       "    }\n",
       "\n",
       "    .dataframe tbody tr th {\n",
       "        vertical-align: top;\n",
       "    }\n",
       "\n",
       "    .dataframe thead th {\n",
       "        text-align: right;\n",
       "    }\n",
       "</style>\n",
       "<table border=\"1\" class=\"dataframe\">\n",
       "  <thead>\n",
       "    <tr style=\"text-align: right;\">\n",
       "      <th></th>\n",
       "      <th>id</th>\n",
       "      <th>pred</th>\n",
       "    </tr>\n",
       "  </thead>\n",
       "  <tbody>\n",
       "    <tr>\n",
       "      <th>0</th>\n",
       "      <td>0</td>\n",
       "      <td>0.709336</td>\n",
       "    </tr>\n",
       "    <tr>\n",
       "      <th>1</th>\n",
       "      <td>1</td>\n",
       "      <td>0.452988</td>\n",
       "    </tr>\n",
       "    <tr>\n",
       "      <th>2</th>\n",
       "      <td>2</td>\n",
       "      <td>0.675462</td>\n",
       "    </tr>\n",
       "    <tr>\n",
       "      <th>3</th>\n",
       "      <td>3</td>\n",
       "      <td>0.481046</td>\n",
       "    </tr>\n",
       "    <tr>\n",
       "      <th>4</th>\n",
       "      <td>4</td>\n",
       "      <td>0.957339</td>\n",
       "    </tr>\n",
       "    <tr>\n",
       "      <th>...</th>\n",
       "      <td>...</td>\n",
       "      <td>...</td>\n",
       "    </tr>\n",
       "    <tr>\n",
       "      <th>39995</th>\n",
       "      <td>39995</td>\n",
       "      <td>0.382515</td>\n",
       "    </tr>\n",
       "    <tr>\n",
       "      <th>39996</th>\n",
       "      <td>39996</td>\n",
       "      <td>0.352498</td>\n",
       "    </tr>\n",
       "    <tr>\n",
       "      <th>39997</th>\n",
       "      <td>39997</td>\n",
       "      <td>0.577554</td>\n",
       "    </tr>\n",
       "    <tr>\n",
       "      <th>39998</th>\n",
       "      <td>39998</td>\n",
       "      <td>0.712353</td>\n",
       "    </tr>\n",
       "    <tr>\n",
       "      <th>39999</th>\n",
       "      <td>39999</td>\n",
       "      <td>0.483215</td>\n",
       "    </tr>\n",
       "  </tbody>\n",
       "</table>\n",
       "<p>40000 rows × 2 columns</p>\n",
       "</div>"
      ],
      "text/plain": [
       "          id      pred\n",
       "0          0  0.709336\n",
       "1          1  0.452988\n",
       "2          2  0.675462\n",
       "3          3  0.481046\n",
       "4          4  0.957339\n",
       "...      ...       ...\n",
       "39995  39995  0.382515\n",
       "39996  39996  0.352498\n",
       "39997  39997  0.577554\n",
       "39998  39998  0.712353\n",
       "39999  39999  0.483215\n",
       "\n",
       "[40000 rows x 2 columns]"
      ]
     },
     "execution_count": 5,
     "metadata": {},
     "output_type": "execute_result"
    }
   ],
   "source": [
    "# import data\n",
    "_6222863195 = pd.read_csv('./tabular-playground-series-nov-2022/submission_files/0.6222863195.csv')\n",
    "_6222863195"
   ]
  },
  {
   "cell_type": "markdown",
   "id": "f4aa9358",
   "metadata": {},
   "source": [
    "### "
   ]
  },
  {
   "cell_type": "markdown",
   "id": "38693797",
   "metadata": {},
   "source": [
    "## Cloning\n",
    "\n",
    "<br>\n",
    "\n",
    "### Reference: \n",
    "- https://www.kaggle.com/code/hasanbasriakcay/tpsnov22-pseudo-labels-lgbm-xgb-lb-0-514"
   ]
  },
  {
   "cell_type": "markdown",
   "id": "bf6d970b",
   "metadata": {},
   "source": [
    "<br>"
   ]
  },
  {
   "cell_type": "markdown",
   "id": "cebd3b65",
   "metadata": {},
   "source": [
    "## Introduction"
   ]
  },
  {
   "cell_type": "markdown",
   "id": "4dcb12b8",
   "metadata": {},
   "source": [
    "<br>"
   ]
  },
  {
   "cell_type": "code",
   "execution_count": 6,
   "id": "32e525af",
   "metadata": {},
   "outputs": [],
   "source": [
    "# import\n",
    "\n",
    "import pandas as pd\n",
    "import numpy as np\n",
    "import matplotlib.pyplot as plt\n",
    "import seaborn as sns\n",
    "import gc\n",
    "import warnings\n",
    "import datetime as dt\n",
    "import math\n",
    "from tqdm.auto import tqdm\n",
    "import glob\n",
    "\n",
    "from scipy.stats.mstats import gmean\n",
    "from scipy.stats import hmean\n",
    "from scipy.stats import spearmanr\n",
    "\n",
    "np.random.seed(0)\n",
    "warnings.simplefilter(\"ignore\")\n",
    "\n",
    "VAR_TH = 1.0e-03\n",
    "PSEUDO_NFOLDS = 5\n",
    "PSEUDO_TH = 0.94\n",
    "CLIP = True\n",
    "VAR_SMOOTHING = 1818"
   ]
  },
  {
   "cell_type": "code",
   "execution_count": 7,
   "id": "9f59b150",
   "metadata": {},
   "outputs": [
    {
     "name": "stdout",
     "output_type": "stream",
     "text": [
      "LightAutoML_submission+prev_best.csv\r\n",
      "LightAutoML_submission.csv\r\n",
      "sub_baseline.csv\r\n",
      "sub_baseline_pseudo.csv\r\n",
      "sub_lgbm_pseudo.csv\r\n",
      "submission_pred_stacked_scipy_blended2.csv\r\n",
      "\u001b[1m\u001b[36mtabular-playground-series-nov-2022\u001b[m\u001b[m\r\n",
      "tabular-playground-series-nov-2022.zip\r\n",
      "tabular_playground_series_nov_2022.ipynb\r\n",
      "train.ftr\r\n",
      "train.ftr.zip\r\n",
      "train_pseudo2.ftr\r\n"
     ]
    }
   ],
   "source": [
    "!ls"
   ]
  },
  {
   "cell_type": "code",
   "execution_count": 8,
   "id": "4a008e5a",
   "metadata": {},
   "outputs": [
    {
     "data": {
      "text/html": [
       "<div>\n",
       "<style scoped>\n",
       "    .dataframe tbody tr th:only-of-type {\n",
       "        vertical-align: middle;\n",
       "    }\n",
       "\n",
       "    .dataframe tbody tr th {\n",
       "        vertical-align: top;\n",
       "    }\n",
       "\n",
       "    .dataframe thead th {\n",
       "        text-align: right;\n",
       "    }\n",
       "</style>\n",
       "<table border=\"1\" class=\"dataframe\">\n",
       "  <thead>\n",
       "    <tr style=\"text-align: right;\">\n",
       "      <th></th>\n",
       "      <th>sub_0</th>\n",
       "      <th>sub_1</th>\n",
       "      <th>sub_2</th>\n",
       "      <th>sub_3</th>\n",
       "      <th>sub_4</th>\n",
       "      <th>sub_5</th>\n",
       "      <th>sub_6</th>\n",
       "      <th>sub_7</th>\n",
       "      <th>sub_8</th>\n",
       "      <th>sub_9</th>\n",
       "      <th>...</th>\n",
       "      <th>sub_4990</th>\n",
       "      <th>sub_4991</th>\n",
       "      <th>sub_4992</th>\n",
       "      <th>sub_4993</th>\n",
       "      <th>sub_4994</th>\n",
       "      <th>sub_4995</th>\n",
       "      <th>sub_4996</th>\n",
       "      <th>sub_4997</th>\n",
       "      <th>sub_4998</th>\n",
       "      <th>sub_4999</th>\n",
       "    </tr>\n",
       "  </thead>\n",
       "  <tbody>\n",
       "    <tr>\n",
       "      <th>0</th>\n",
       "      <td>0.709336</td>\n",
       "      <td>0.799007</td>\n",
       "      <td>0.851891</td>\n",
       "      <td>0.537158</td>\n",
       "      <td>0.623930</td>\n",
       "      <td>0.705970</td>\n",
       "      <td>0.503437</td>\n",
       "      <td>0.633185</td>\n",
       "      <td>0.641550</td>\n",
       "      <td>0.666604</td>\n",
       "      <td>...</td>\n",
       "      <td>0.769207</td>\n",
       "      <td>0.750250</td>\n",
       "      <td>0.663370</td>\n",
       "      <td>0.739333</td>\n",
       "      <td>0.822384</td>\n",
       "      <td>0.749498</td>\n",
       "      <td>0.729800</td>\n",
       "      <td>0.867847</td>\n",
       "      <td>0.745888</td>\n",
       "      <td>0.787</td>\n",
       "    </tr>\n",
       "    <tr>\n",
       "      <th>1</th>\n",
       "      <td>0.452988</td>\n",
       "      <td>0.364453</td>\n",
       "      <td>0.567582</td>\n",
       "      <td>0.354468</td>\n",
       "      <td>0.513818</td>\n",
       "      <td>0.584119</td>\n",
       "      <td>0.454809</td>\n",
       "      <td>0.238501</td>\n",
       "      <td>0.472171</td>\n",
       "      <td>0.522314</td>\n",
       "      <td>...</td>\n",
       "      <td>0.640052</td>\n",
       "      <td>0.794052</td>\n",
       "      <td>0.721298</td>\n",
       "      <td>0.804369</td>\n",
       "      <td>0.620626</td>\n",
       "      <td>0.733606</td>\n",
       "      <td>0.816942</td>\n",
       "      <td>0.814229</td>\n",
       "      <td>0.598331</td>\n",
       "      <td>0.547</td>\n",
       "    </tr>\n",
       "    <tr>\n",
       "      <th>2</th>\n",
       "      <td>0.675462</td>\n",
       "      <td>0.842260</td>\n",
       "      <td>0.800013</td>\n",
       "      <td>0.525229</td>\n",
       "      <td>0.692071</td>\n",
       "      <td>0.715418</td>\n",
       "      <td>0.651008</td>\n",
       "      <td>0.609124</td>\n",
       "      <td>0.691198</td>\n",
       "      <td>0.609994</td>\n",
       "      <td>...</td>\n",
       "      <td>0.812841</td>\n",
       "      <td>0.779859</td>\n",
       "      <td>0.865657</td>\n",
       "      <td>0.828493</td>\n",
       "      <td>0.763010</td>\n",
       "      <td>0.802883</td>\n",
       "      <td>0.806891</td>\n",
       "      <td>0.896058</td>\n",
       "      <td>0.855776</td>\n",
       "      <td>0.667</td>\n",
       "    </tr>\n",
       "    <tr>\n",
       "      <th>3</th>\n",
       "      <td>0.481046</td>\n",
       "      <td>0.577118</td>\n",
       "      <td>0.683032</td>\n",
       "      <td>0.541356</td>\n",
       "      <td>0.630088</td>\n",
       "      <td>0.664514</td>\n",
       "      <td>0.413373</td>\n",
       "      <td>0.508210</td>\n",
       "      <td>0.526140</td>\n",
       "      <td>0.584565</td>\n",
       "      <td>...</td>\n",
       "      <td>0.824703</td>\n",
       "      <td>0.799698</td>\n",
       "      <td>0.800130</td>\n",
       "      <td>0.716604</td>\n",
       "      <td>0.603779</td>\n",
       "      <td>0.708499</td>\n",
       "      <td>0.844837</td>\n",
       "      <td>0.853057</td>\n",
       "      <td>0.850657</td>\n",
       "      <td>0.622</td>\n",
       "    </tr>\n",
       "    <tr>\n",
       "      <th>4</th>\n",
       "      <td>0.957339</td>\n",
       "      <td>0.910337</td>\n",
       "      <td>0.917322</td>\n",
       "      <td>0.874487</td>\n",
       "      <td>0.787595</td>\n",
       "      <td>0.854273</td>\n",
       "      <td>0.843846</td>\n",
       "      <td>0.876749</td>\n",
       "      <td>0.821128</td>\n",
       "      <td>0.913054</td>\n",
       "      <td>...</td>\n",
       "      <td>0.934803</td>\n",
       "      <td>0.900150</td>\n",
       "      <td>0.960911</td>\n",
       "      <td>0.906037</td>\n",
       "      <td>0.961240</td>\n",
       "      <td>0.935608</td>\n",
       "      <td>0.889757</td>\n",
       "      <td>0.978505</td>\n",
       "      <td>0.953681</td>\n",
       "      <td>0.934</td>\n",
       "    </tr>\n",
       "  </tbody>\n",
       "</table>\n",
       "<p>5 rows × 5000 columns</p>\n",
       "</div>"
      ],
      "text/plain": [
       "      sub_0     sub_1     sub_2     sub_3     sub_4     sub_5     sub_6  \\\n",
       "0  0.709336  0.799007  0.851891  0.537158  0.623930  0.705970  0.503437   \n",
       "1  0.452988  0.364453  0.567582  0.354468  0.513818  0.584119  0.454809   \n",
       "2  0.675462  0.842260  0.800013  0.525229  0.692071  0.715418  0.651008   \n",
       "3  0.481046  0.577118  0.683032  0.541356  0.630088  0.664514  0.413373   \n",
       "4  0.957339  0.910337  0.917322  0.874487  0.787595  0.854273  0.843846   \n",
       "\n",
       "      sub_7     sub_8     sub_9  ...  sub_4990  sub_4991  sub_4992  sub_4993  \\\n",
       "0  0.633185  0.641550  0.666604  ...  0.769207  0.750250  0.663370  0.739333   \n",
       "1  0.238501  0.472171  0.522314  ...  0.640052  0.794052  0.721298  0.804369   \n",
       "2  0.609124  0.691198  0.609994  ...  0.812841  0.779859  0.865657  0.828493   \n",
       "3  0.508210  0.526140  0.584565  ...  0.824703  0.799698  0.800130  0.716604   \n",
       "4  0.876749  0.821128  0.913054  ...  0.934803  0.900150  0.960911  0.906037   \n",
       "\n",
       "   sub_4994  sub_4995  sub_4996  sub_4997  sub_4998  sub_4999  \n",
       "0  0.822384  0.749498  0.729800  0.867847  0.745888     0.787  \n",
       "1  0.620626  0.733606  0.816942  0.814229  0.598331     0.547  \n",
       "2  0.763010  0.802883  0.806891  0.896058  0.855776     0.667  \n",
       "3  0.603779  0.708499  0.844837  0.853057  0.850657     0.622  \n",
       "4  0.961240  0.935608  0.889757  0.978505  0.953681     0.934  \n",
       "\n",
       "[5 rows x 5000 columns]"
      ]
     },
     "metadata": {},
     "output_type": "display_data"
    },
    {
     "data": {
      "text/html": [
       "<div>\n",
       "<style scoped>\n",
       "    .dataframe tbody tr th:only-of-type {\n",
       "        vertical-align: middle;\n",
       "    }\n",
       "\n",
       "    .dataframe tbody tr th {\n",
       "        vertical-align: top;\n",
       "    }\n",
       "\n",
       "    .dataframe thead th {\n",
       "        text-align: right;\n",
       "    }\n",
       "</style>\n",
       "<table border=\"1\" class=\"dataframe\">\n",
       "  <thead>\n",
       "    <tr style=\"text-align: right;\">\n",
       "      <th></th>\n",
       "      <th>id</th>\n",
       "      <th>pred</th>\n",
       "    </tr>\n",
       "  </thead>\n",
       "  <tbody>\n",
       "    <tr>\n",
       "      <th>0</th>\n",
       "      <td>20000</td>\n",
       "      <td>0.640707</td>\n",
       "    </tr>\n",
       "    <tr>\n",
       "      <th>1</th>\n",
       "      <td>20001</td>\n",
       "      <td>0.636904</td>\n",
       "    </tr>\n",
       "    <tr>\n",
       "      <th>2</th>\n",
       "      <td>20002</td>\n",
       "      <td>0.392496</td>\n",
       "    </tr>\n",
       "    <tr>\n",
       "      <th>3</th>\n",
       "      <td>20003</td>\n",
       "      <td>0.588658</td>\n",
       "    </tr>\n",
       "    <tr>\n",
       "      <th>4</th>\n",
       "      <td>20004</td>\n",
       "      <td>0.783603</td>\n",
       "    </tr>\n",
       "  </tbody>\n",
       "</table>\n",
       "</div>"
      ],
      "text/plain": [
       "      id      pred\n",
       "0  20000  0.640707\n",
       "1  20001  0.636904\n",
       "2  20002  0.392496\n",
       "3  20003  0.588658\n",
       "4  20004  0.783603"
      ]
     },
     "metadata": {},
     "output_type": "display_data"
    }
   ],
   "source": [
    "data = pd.read_feather('./train.ftr')\n",
    "sub = pd.read_csv('./tabular-playground-series-nov-2022/sample_submission.csv')\n",
    "y = pd.read_csv('./tabular-playground-series-nov-2022/train_labels.csv')\n",
    "\n",
    "train = data.loc[:19999, :]\n",
    "test = data.loc[20000:, :]\n",
    "\n",
    "display(train.head())\n",
    "display(sub.head())"
   ]
  },
  {
   "cell_type": "code",
   "execution_count": 9,
   "id": "3061d7f2",
   "metadata": {},
   "outputs": [
    {
     "name": "stdout",
     "output_type": "stream",
     "text": [
      "train shape: (20000, 5000)\n",
      "test shape: (20000, 5000)\n",
      "sub shape: (20000, 2)\n"
     ]
    }
   ],
   "source": [
    "print(\"train shape:\", train.shape)\n",
    "print(\"test shape:\", test.shape)\n",
    "print(\"sub shape:\", sub.shape)"
   ]
  },
  {
   "cell_type": "code",
   "execution_count": 10,
   "id": "5cac990f",
   "metadata": {},
   "outputs": [
    {
     "name": "stdout",
     "output_type": "stream",
     "text": [
      "train nan value sum: 0\n",
      "test nan value sum: 0\n"
     ]
    }
   ],
   "source": [
    "print(\"train nan value sum:\", train.isna().sum().sum())\n",
    "print(\"test nan value sum:\", test.isna().sum().sum())"
   ]
  },
  {
   "cell_type": "code",
   "execution_count": 11,
   "id": "39be2c13",
   "metadata": {},
   "outputs": [
    {
     "name": "stdout",
     "output_type": "stream",
     "text": [
      "train dublicated value sum: 0\n",
      "test dublicated value sum: 0\n"
     ]
    }
   ],
   "source": [
    "print(\"train dublicated value sum:\", train.duplicated().sum().sum())\n",
    "print(\"test dublicated value sum:\", test.duplicated().sum().sum())"
   ]
  },
  {
   "cell_type": "markdown",
   "id": "02fb26a5",
   "metadata": {},
   "source": [
    "<br>"
   ]
  },
  {
   "cell_type": "markdown",
   "id": "96b7ea7c",
   "metadata": {},
   "source": [
    "## Preprocesses"
   ]
  },
  {
   "cell_type": "markdown",
   "id": "9381dd5d",
   "metadata": {},
   "source": [
    "<br>"
   ]
  },
  {
   "cell_type": "code",
   "execution_count": 12,
   "id": "8c10efe9",
   "metadata": {},
   "outputs": [
    {
     "data": {
      "text/plain": [
       "sub_1825    4.930627e-32\n",
       "sub_2356    1.000000e+00\n",
       "sub_4963    1.000000e+00\n",
       "sub_1691    1.000000e+00\n",
       "sub_1685    1.000000e+00\n",
       "                ...     \n",
       "sub_3226    1.000000e+00\n",
       "sub_2618    1.000000e+00\n",
       "sub_684     1.000000e+00\n",
       "sub_1148    1.000000e+00\n",
       "sub_1824             NaN\n",
       "Length: 5000, dtype: float64"
      ]
     },
     "execution_count": 12,
     "metadata": {},
     "output_type": "execute_result"
    }
   ],
   "source": [
    "normalized_train = (train - train.mean()) / train.std()\n",
    "normalized_train.var().sort_values()"
   ]
  },
  {
   "cell_type": "code",
   "execution_count": 13,
   "id": "89cd3d43",
   "metadata": {},
   "outputs": [
    {
     "name": "stdout",
     "output_type": "stream",
     "text": [
      "train sub_1824 unique : [0.491104]\n",
      "test sub_1824 unique : [0.491104]\n",
      "train sub_1825 unique : [0.51]\n",
      "test sub_1825 unique : [0.51]\n"
     ]
    }
   ],
   "source": [
    "for feature in [\"sub_1824\", \"sub_1825\"]:\n",
    "    print(f\"train {feature} unique : {train[feature].unique()}\")\n",
    "    print(f\"test {feature} unique : {test[feature].unique()}\")"
   ]
  },
  {
   "cell_type": "code",
   "execution_count": 14,
   "id": "7968e28a",
   "metadata": {},
   "outputs": [
    {
     "data": {
      "text/plain": [
       "(1.356611, -0.336521)"
      ]
     },
     "execution_count": 14,
     "metadata": {},
     "output_type": "execute_result"
    }
   ],
   "source": [
    "train.max().max(), train.min().min()"
   ]
  },
  {
   "cell_type": "code",
   "execution_count": 15,
   "id": "1bd6a886",
   "metadata": {},
   "outputs": [
    {
     "name": "stdout",
     "output_type": "stream",
     "text": [
      "1.0 0.0\n"
     ]
    }
   ],
   "source": [
    "if CLIP:\n",
    "    train = train.clip(0,1)\n",
    "    test = test.clip(0,1)\n",
    "    print(train.max().max(), train.min().min())"
   ]
  },
  {
   "cell_type": "markdown",
   "id": "4103af1f",
   "metadata": {},
   "source": [
    "<br>"
   ]
  },
  {
   "cell_type": "markdown",
   "id": "a3d1262c",
   "metadata": {},
   "source": [
    "## Feature Selection"
   ]
  },
  {
   "cell_type": "markdown",
   "id": "be09bddd",
   "metadata": {},
   "source": [
    "<br>"
   ]
  },
  {
   "cell_type": "code",
   "execution_count": 16,
   "id": "c14c8099",
   "metadata": {},
   "outputs": [
    {
     "name": "stdout",
     "output_type": "stream",
     "text": [
      "sub_file_names len: 5000\n"
     ]
    },
    {
     "data": {
      "application/vnd.jupyter.widget-view+json": {
       "model_id": "90358e37d788477ebad22358a68c4029",
       "version_major": 2,
       "version_minor": 0
      },
      "text/plain": [
       "0it [00:00, ?it/s]"
      ]
     },
     "metadata": {},
     "output_type": "display_data"
    },
    {
     "data": {
      "text/plain": [
       "23"
      ]
     },
     "execution_count": 16,
     "metadata": {},
     "output_type": "execute_result"
    }
   ],
   "source": [
    "sub_file_names = sorted(glob.glob('./tabular-playground-series-nov-2022/submission_files/*.csv'))\n",
    "scores_all = [float(file_name.split('/')[-1][:-4]) for file_name in sub_file_names]\n",
    "print(\"sub_file_names len:\", len(sub_file_names))\n",
    "\n",
    "# ref: https://www.kaggle.com/code/takanashihumbert/drop-4000-features-lb-0-51530\n",
    "best = 'sub_0'\n",
    "else_cols = [f for f in data.columns if f != best]\n",
    "drop_cols = []\n",
    "for col, score in tqdm(zip(else_cols, scores_all)):\n",
    "    logloss = score\n",
    "    r, _ = spearmanr(data[best].values, data[col].values)\n",
    "    if r > 0.98 or logloss > 0.680:\n",
    "        drop_cols.append(col)\n",
    "\n",
    "del data\n",
    "gc.collect()"
   ]
  },
  {
   "cell_type": "code",
   "execution_count": 17,
   "id": "b8106161",
   "metadata": {},
   "outputs": [
    {
     "name": "stdout",
     "output_type": "stream",
     "text": [
      "train.shape: (20000, 630)\n"
     ]
    }
   ],
   "source": [
    "train.drop(drop_cols, axis=1, inplace=True)\n",
    "print(\"train.shape:\", train.shape)"
   ]
  },
  {
   "cell_type": "markdown",
   "id": "92c49b52",
   "metadata": {},
   "source": [
    "<br>"
   ]
  },
  {
   "cell_type": "markdown",
   "id": "9d2ce870",
   "metadata": {},
   "source": [
    "## UMAP-PCA Visualization"
   ]
  },
  {
   "cell_type": "markdown",
   "id": "8339d1a6",
   "metadata": {},
   "source": [
    "<br>"
   ]
  },
  {
   "cell_type": "code",
   "execution_count": 18,
   "id": "3fdced00",
   "metadata": {},
   "outputs": [],
   "source": [
    "from lightgbm import LGBMClassifier\n",
    "from sklearn.model_selection import cross_val_predict\n",
    "from sklearn.metrics import log_loss\n",
    "import umap\n",
    "\n",
    "embedding = umap.UMAP(n_neighbors=50,\n",
    "                      min_dist=0.5,\n",
    "                      metric='manhattan').fit_transform(train)"
   ]
  },
  {
   "cell_type": "code",
   "execution_count": 19,
   "id": "9db7cef9",
   "metadata": {},
   "outputs": [
    {
     "name": "stdout",
     "output_type": "stream",
     "text": [
      "[0.89218954 0.92142222 0.93283852 0.93762131 0.94151562 0.94479409\n",
      " 0.94719723 0.94956768 0.9516112  0.95322088]\n"
     ]
    }
   ],
   "source": [
    "from sklearn.decomposition import PCA\n",
    "from sklearn.linear_model import LogisticRegression\n",
    "\n",
    "pca = PCA().fit(train)\n",
    "print(pca.explained_variance_ratio_.cumsum()[:10])"
   ]
  },
  {
   "cell_type": "markdown",
   "id": "02444b3a",
   "metadata": {},
   "source": [
    "<br>"
   ]
  },
  {
   "cell_type": "markdown",
   "id": "c377608f",
   "metadata": {},
   "source": [
    "## Adding Pseudo Labels"
   ]
  },
  {
   "cell_type": "markdown",
   "id": "39dc3b2a",
   "metadata": {},
   "source": [
    "<br>"
   ]
  },
  {
   "cell_type": "code",
   "execution_count": 20,
   "id": "6b1e10c4",
   "metadata": {},
   "outputs": [],
   "source": [
    "from sklearn.discriminant_analysis import QuadraticDiscriminantAnalysis\n",
    "from sklearn.discriminant_analysis import LinearDiscriminantAnalysis\n",
    "from sklearn.naive_bayes import GaussianNB\n",
    "from sklearn.decomposition import PCA\n",
    "from sklearn.calibration import CalibratedClassifierCV\n",
    "from sklearn.model_selection import StratifiedKFold\n",
    "from sklearn.feature_selection import VarianceThreshold\n",
    "from sklearn.metrics import roc_auc_score\n",
    "from sklearn.metrics import accuracy_score\n",
    "from sklearn.metrics import log_loss"
   ]
  },
  {
   "cell_type": "code",
   "execution_count": 21,
   "id": "aff6ba6d",
   "metadata": {},
   "outputs": [],
   "source": [
    "def get_pseudo_data():\n",
    "    skf = StratifiedKFold(n_splits=PSEUDO_NFOLDS, random_state=0, shuffle=True)\n",
    "    oof = np.zeros(train.shape[0])\n",
    "    test_preds = np.zeros(test.shape[0])\n",
    "    for train_index, val_index in skf.split(train, y[\"label\"]):\n",
    "        X_train, X_val = train.loc[train_index,:], train.loc[val_index,:]\n",
    "        y_train, y_val = y.loc[train_index,\"label\"], y.loc[val_index,\"label\"]\n",
    "        X_test = test[X_train.columns.tolist()]\n",
    "        \n",
    "        '''\n",
    "        # Drop Low Variances\n",
    "        sel = VarianceThreshold(threshold=VAR_TH)\n",
    "        sel.fit(X_train / X_train.mean())\n",
    "        mask = sel.get_support()\n",
    "\n",
    "        X_train = X_train.loc[:, mask]\n",
    "        X_val = X_val.loc[:, mask]\n",
    "        X_test = test.loc[:, mask]\n",
    "        '''\n",
    "\n",
    "        #model = QuadraticDiscriminantAnalysis(reg_param=reg_param)\n",
    "        model = LinearDiscriminantAnalysis()\n",
    "        model.fit(X_train, y_train)\n",
    "        val_pred = model.predict_proba(X_val)[:,1]\n",
    "        test_pred = model.predict_proba(X_test)[:,1]\n",
    "\n",
    "        oof[val_index] = val_pred\n",
    "        test_preds += test_pred\n",
    "\n",
    "        del X_train, X_val, X_test, y_train, y_val, model\n",
    "        gc.collect()\n",
    "    test_preds /= PSEUDO_NFOLDS\n",
    "    return oof, test_preds"
   ]
  },
  {
   "cell_type": "code",
   "execution_count": 22,
   "id": "61073bd0",
   "metadata": {},
   "outputs": [],
   "source": [
    "val_preds, test_preds = get_pseudo_data()"
   ]
  },
  {
   "cell_type": "code",
   "execution_count": 23,
   "id": "16c93c94",
   "metadata": {},
   "outputs": [
    {
     "name": "stdout",
     "output_type": "stream",
     "text": [
      "score=0.5507181301818095\n"
     ]
    },
    {
     "data": {
      "image/png": "[encoded data removed]",
      "text/plain": [
       "<Figure size 1600x400 with 2 Axes>"
      ]
     },
     "metadata": {},
     "output_type": "display_data"
    }
   ],
   "source": [
    "## LinearDiscriminantAnalysis()\n",
    "print(f\"score={log_loss(y['label'], val_preds)}\")\n",
    "fig, axes = plt.subplots(1, 2, figsize=(16,4))\n",
    "axes[0].hist(val_preds, bins=100);\n",
    "axes[0].set_title(\"Train Predictions Histogram\")\n",
    "axes[1].hist(test_preds, bins=100);\n",
    "axes[1].set_title(\"Test Predictions Histogram\");\n",
    "plt.show()"
   ]
  },
  {
   "cell_type": "code",
   "execution_count": 24,
   "id": "0047f846",
   "metadata": {},
   "outputs": [
    {
     "name": "stdout",
     "output_type": "stream",
     "text": [
      "proba_th: 0.98722\n"
     ]
    },
    {
     "data": {
      "image/png": "[encoded data removed]",
      "text/plain": [
       "<Figure size 1600x400 with 3 Axes>"
      ]
     },
     "metadata": {},
     "output_type": "display_data"
    }
   ],
   "source": [
    "th_list = np.linspace(0.9, 0.989, 100, endpoint=False)\n",
    "scores_roc, score_log, score_acc = [], [], []\n",
    "proba_th, max_score, min_score = 0, 0, 99\n",
    "for th in th_list:\n",
    "    condition = ((val_preds >= th) | (val_preds <= 1-th))\n",
    "    new_val_preds = val_preds[condition]\n",
    "    new_val_true = y.loc[condition, 'label']\n",
    "    score = roc_auc_score(new_val_true, new_val_preds)\n",
    "    scores_roc.append(score)\n",
    "    score = log_loss(new_val_true, new_val_preds)\n",
    "    score_log.append(score)\n",
    "    if score < min_score:\n",
    "        min_score = score\n",
    "        proba_th = th\n",
    "    score = accuracy_score(new_val_true, new_val_preds.round().astype(int))\n",
    "    score_acc.append(score)\n",
    "print(\"proba_th:\", proba_th)\n",
    "fig, axes = plt.subplots(3, figsize=(16,4))\n",
    "axes[0].plot(th_list, scores_roc);\n",
    "axes[0].axvline(proba_th, color='r')\n",
    "axes[0].set_title(\"ROC-AUC\")\n",
    "axes[0].axvline(PSEUDO_TH, color='green', linewidth=2)\n",
    "axes[1].plot(th_list, score_log);\n",
    "axes[1].axvline(proba_th, color='r')\n",
    "axes[1].set_title(\"Log loss\")\n",
    "axes[1].axvline(PSEUDO_TH, color='green', linewidth=2)\n",
    "axes[2].plot(th_list, score_acc);\n",
    "axes[2].axvline(proba_th, color='r');\n",
    "axes[2].axvline(PSEUDO_TH, color='green', linewidth=2);\n",
    "axes[2].set_xlabel(\"Thresholds\");\n",
    "axes[2].set_title(\"Accuracy\");\n",
    "fig.tight_layout()"
   ]
  },
  {
   "cell_type": "code",
   "execution_count": 25,
   "id": "0edc5547",
   "metadata": {},
   "outputs": [
    {
     "name": "stdout",
     "output_type": "stream",
     "text": [
      "Pseudo Label Counts\n"
     ]
    },
    {
     "data": {
      "text/plain": [
       " 0    18338\n",
       "-1     1166\n",
       " 1      496\n",
       "Name: pseudo, dtype: int64"
      ]
     },
     "execution_count": 25,
     "metadata": {},
     "output_type": "execute_result"
    }
   ],
   "source": [
    "df_2d = pd.DataFrame()\n",
    "df_2d[\"sub_0\"] = train[\"sub_0\"].values\n",
    "df_2d[\"sub_1\"] = train[\"sub_1\"].values\n",
    "\n",
    "df_2d[\"pseudo\"] = 0\n",
    "df_2d.loc[val_preds >= PSEUDO_TH, \"pseudo\"] = 1\n",
    "df_2d.loc[val_preds <= 1-PSEUDO_TH, \"pseudo\"] = -1\n",
    "\n",
    "df_2d[\"pseudo_color\"] = \"grey\"\n",
    "df_2d.loc[val_preds >= PSEUDO_TH, \"pseudo_color\"] = \"blue\"\n",
    "df_2d.loc[val_preds <= 1-PSEUDO_TH, \"pseudo_color\"] = \"blue\"\n",
    "\n",
    "print(\"Pseudo Label Counts\")\n",
    "df_2d[\"pseudo\"].value_counts()"
   ]
  },
  {
   "cell_type": "code",
   "execution_count": 26,
   "id": "7dbef3f7",
   "metadata": {},
   "outputs": [
    {
     "data": {
      "image/png": "[encoded data removed]",
      "text/plain": [
       "<Figure size 800x800 with 1 Axes>"
      ]
     },
     "metadata": {},
     "output_type": "display_data"
    }
   ],
   "source": [
    "fig, ax = plt.subplots(figsize=(8,8))\n",
    "ax.scatter(df_2d[\"sub_0\"], df_2d[\"sub_1\"], color=df_2d[\"pseudo_color\"], alpha=0.1)\n",
    "ax.set_ylabel(\"sub_1\")\n",
    "ax.set_xlabel(\"sub_0\")\n",
    "ax.set_title(\"Pseudo Label Graph\")\n",
    "ax.add_patch(plt.Circle((0, 0), 1-PSEUDO_TH, color='r', fill=False, clip_on=True))\n",
    "ax.add_patch(plt.Circle((1, 1), 1-PSEUDO_TH, color='r', fill=False, clip_on=True));"
   ]
  },
  {
   "cell_type": "code",
   "execution_count": 27,
   "id": "83cf9eff",
   "metadata": {},
   "outputs": [],
   "source": [
    "condition = ((test_preds >= PSEUDO_TH) | (test_preds <= 1-PSEUDO_TH))\n",
    "train_pseudo = test.loc[condition, :]\n",
    "train_pseudo['label'] = test_preds[condition].round().astype(int)\n",
    "train_pseudo.reset_index(inplace=True, drop=True)\n",
    "train_pseudo.to_feather(\"train_pseudo2.ftr\")"
   ]
  },
  {
   "cell_type": "code",
   "execution_count": 28,
   "id": "39d79b32",
   "metadata": {},
   "outputs": [
    {
     "name": "stdout",
     "output_type": "stream",
     "text": [
      "train_pseudo.shape: (1516, 5001)\n"
     ]
    },
    {
     "data": {
      "text/html": [
       "<div>\n",
       "<style scoped>\n",
       "    .dataframe tbody tr th:only-of-type {\n",
       "        vertical-align: middle;\n",
       "    }\n",
       "\n",
       "    .dataframe tbody tr th {\n",
       "        vertical-align: top;\n",
       "    }\n",
       "\n",
       "    .dataframe thead th {\n",
       "        text-align: right;\n",
       "    }\n",
       "</style>\n",
       "<table border=\"1\" class=\"dataframe\">\n",
       "  <thead>\n",
       "    <tr style=\"text-align: right;\">\n",
       "      <th></th>\n",
       "      <th>sub_0</th>\n",
       "      <th>sub_1</th>\n",
       "      <th>sub_2</th>\n",
       "      <th>sub_3</th>\n",
       "      <th>sub_4</th>\n",
       "      <th>sub_5</th>\n",
       "      <th>sub_6</th>\n",
       "      <th>sub_7</th>\n",
       "      <th>sub_8</th>\n",
       "      <th>sub_9</th>\n",
       "      <th>...</th>\n",
       "      <th>sub_4991</th>\n",
       "      <th>sub_4992</th>\n",
       "      <th>sub_4993</th>\n",
       "      <th>sub_4994</th>\n",
       "      <th>sub_4995</th>\n",
       "      <th>sub_4996</th>\n",
       "      <th>sub_4997</th>\n",
       "      <th>sub_4998</th>\n",
       "      <th>sub_4999</th>\n",
       "      <th>label</th>\n",
       "    </tr>\n",
       "  </thead>\n",
       "  <tbody>\n",
       "    <tr>\n",
       "      <th>0</th>\n",
       "      <td>0.510769</td>\n",
       "      <td>0.121118</td>\n",
       "      <td>0.161728</td>\n",
       "      <td>0.261205</td>\n",
       "      <td>0.512481</td>\n",
       "      <td>0.165255</td>\n",
       "      <td>0.310519</td>\n",
       "      <td>0.317874</td>\n",
       "      <td>0.540633</td>\n",
       "      <td>0.531018</td>\n",
       "      <td>...</td>\n",
       "      <td>0.428416</td>\n",
       "      <td>0.380975</td>\n",
       "      <td>0.545106</td>\n",
       "      <td>0.157013</td>\n",
       "      <td>0.407532</td>\n",
       "      <td>0.574039</td>\n",
       "      <td>0.565794</td>\n",
       "      <td>0.572804</td>\n",
       "      <td>0.501</td>\n",
       "      <td>0</td>\n",
       "    </tr>\n",
       "    <tr>\n",
       "      <th>1</th>\n",
       "      <td>0.361320</td>\n",
       "      <td>0.347783</td>\n",
       "      <td>0.055087</td>\n",
       "      <td>0.508180</td>\n",
       "      <td>0.511239</td>\n",
       "      <td>0.414870</td>\n",
       "      <td>0.386703</td>\n",
       "      <td>0.374178</td>\n",
       "      <td>0.421939</td>\n",
       "      <td>0.470217</td>\n",
       "      <td>...</td>\n",
       "      <td>0.628393</td>\n",
       "      <td>0.552348</td>\n",
       "      <td>0.603726</td>\n",
       "      <td>0.596260</td>\n",
       "      <td>0.625424</td>\n",
       "      <td>0.565772</td>\n",
       "      <td>0.307316</td>\n",
       "      <td>0.591384</td>\n",
       "      <td>0.141</td>\n",
       "      <td>0</td>\n",
       "    </tr>\n",
       "    <tr>\n",
       "      <th>2</th>\n",
       "      <td>0.671001</td>\n",
       "      <td>0.286648</td>\n",
       "      <td>0.246030</td>\n",
       "      <td>0.249671</td>\n",
       "      <td>0.599813</td>\n",
       "      <td>0.524274</td>\n",
       "      <td>0.349856</td>\n",
       "      <td>0.162366</td>\n",
       "      <td>0.546364</td>\n",
       "      <td>0.564960</td>\n",
       "      <td>...</td>\n",
       "      <td>0.621725</td>\n",
       "      <td>0.607564</td>\n",
       "      <td>0.716344</td>\n",
       "      <td>0.613170</td>\n",
       "      <td>0.681448</td>\n",
       "      <td>0.618902</td>\n",
       "      <td>0.456893</td>\n",
       "      <td>0.739265</td>\n",
       "      <td>0.351</td>\n",
       "      <td>0</td>\n",
       "    </tr>\n",
       "    <tr>\n",
       "      <th>3</th>\n",
       "      <td>0.918708</td>\n",
       "      <td>0.969526</td>\n",
       "      <td>0.994842</td>\n",
       "      <td>0.941859</td>\n",
       "      <td>0.803327</td>\n",
       "      <td>0.874479</td>\n",
       "      <td>0.934235</td>\n",
       "      <td>0.921584</td>\n",
       "      <td>0.822495</td>\n",
       "      <td>0.957115</td>\n",
       "      <td>...</td>\n",
       "      <td>0.903667</td>\n",
       "      <td>0.981070</td>\n",
       "      <td>0.970359</td>\n",
       "      <td>0.976426</td>\n",
       "      <td>0.984603</td>\n",
       "      <td>0.872210</td>\n",
       "      <td>0.980073</td>\n",
       "      <td>0.920242</td>\n",
       "      <td>0.683</td>\n",
       "      <td>1</td>\n",
       "    </tr>\n",
       "    <tr>\n",
       "      <th>4</th>\n",
       "      <td>0.404788</td>\n",
       "      <td>0.212052</td>\n",
       "      <td>0.622353</td>\n",
       "      <td>0.312842</td>\n",
       "      <td>0.548978</td>\n",
       "      <td>0.432661</td>\n",
       "      <td>0.572896</td>\n",
       "      <td>0.176530</td>\n",
       "      <td>0.604128</td>\n",
       "      <td>0.331153</td>\n",
       "      <td>...</td>\n",
       "      <td>0.613486</td>\n",
       "      <td>0.645798</td>\n",
       "      <td>0.512526</td>\n",
       "      <td>0.535430</td>\n",
       "      <td>0.502873</td>\n",
       "      <td>0.726607</td>\n",
       "      <td>0.698740</td>\n",
       "      <td>0.678254</td>\n",
       "      <td>0.651</td>\n",
       "      <td>0</td>\n",
       "    </tr>\n",
       "  </tbody>\n",
       "</table>\n",
       "<p>5 rows × 5001 columns</p>\n",
       "</div>"
      ],
      "text/plain": [
       "      sub_0     sub_1     sub_2     sub_3     sub_4     sub_5     sub_6  \\\n",
       "0  0.510769  0.121118  0.161728  0.261205  0.512481  0.165255  0.310519   \n",
       "1  0.361320  0.347783  0.055087  0.508180  0.511239  0.414870  0.386703   \n",
       "2  0.671001  0.286648  0.246030  0.249671  0.599813  0.524274  0.349856   \n",
       "3  0.918708  0.969526  0.994842  0.941859  0.803327  0.874479  0.934235   \n",
       "4  0.404788  0.212052  0.622353  0.312842  0.548978  0.432661  0.572896   \n",
       "\n",
       "      sub_7     sub_8     sub_9  ...  sub_4991  sub_4992  sub_4993  sub_4994  \\\n",
       "0  0.317874  0.540633  0.531018  ...  0.428416  0.380975  0.545106  0.157013   \n",
       "1  0.374178  0.421939  0.470217  ...  0.628393  0.552348  0.603726  0.596260   \n",
       "2  0.162366  0.546364  0.564960  ...  0.621725  0.607564  0.716344  0.613170   \n",
       "3  0.921584  0.822495  0.957115  ...  0.903667  0.981070  0.970359  0.976426   \n",
       "4  0.176530  0.604128  0.331153  ...  0.613486  0.645798  0.512526  0.535430   \n",
       "\n",
       "   sub_4995  sub_4996  sub_4997  sub_4998  sub_4999  label  \n",
       "0  0.407532  0.574039  0.565794  0.572804     0.501      0  \n",
       "1  0.625424  0.565772  0.307316  0.591384     0.141      0  \n",
       "2  0.681448  0.618902  0.456893  0.739265     0.351      0  \n",
       "3  0.984603  0.872210  0.980073  0.920242     0.683      1  \n",
       "4  0.502873  0.726607  0.698740  0.678254     0.651      0  \n",
       "\n",
       "[5 rows x 5001 columns]"
      ]
     },
     "execution_count": 28,
     "metadata": {},
     "output_type": "execute_result"
    }
   ],
   "source": [
    "print(\"train_pseudo.shape:\", train_pseudo.shape)\n",
    "train_pseudo.head()"
   ]
  },
  {
   "cell_type": "markdown",
   "id": "7b81e907",
   "metadata": {},
   "source": [
    "<br>"
   ]
  },
  {
   "cell_type": "markdown",
   "id": "a3367e5d",
   "metadata": {},
   "source": [
    "## Baseline Modeling"
   ]
  },
  {
   "cell_type": "markdown",
   "id": "b367ce00",
   "metadata": {},
   "source": [
    "<br>"
   ]
  },
  {
   "cell_type": "code",
   "execution_count": 29,
   "id": "b7b49dd2",
   "metadata": {},
   "outputs": [],
   "source": [
    "from sklearn.linear_model import LogisticRegression\n",
    "from sklearn.ensemble import RandomForestClassifier\n",
    "from sklearn.decomposition import PCA\n",
    "import lightgbm as lgb\n",
    "import xgboost as xgb\n",
    "\n",
    "from sklearn.model_selection import cross_val_score\n",
    "from sklearn.model_selection import cross_val_predict\n",
    "from sklearn.model_selection import StratifiedKFold\n",
    "from sklearn.metrics import roc_auc_score\n",
    "from sklearn.metrics import accuracy_score\n",
    "from sklearn.metrics import log_loss"
   ]
  },
  {
   "cell_type": "code",
   "execution_count": 30,
   "id": "fbbf514e",
   "metadata": {},
   "outputs": [
    {
     "name": "stdout",
     "output_type": "stream",
     "text": [
      "train_new.shape: (21516, 5001)\n"
     ]
    },
    {
     "data": {
      "text/html": [
       "<div>\n",
       "<style scoped>\n",
       "    .dataframe tbody tr th:only-of-type {\n",
       "        vertical-align: middle;\n",
       "    }\n",
       "\n",
       "    .dataframe tbody tr th {\n",
       "        vertical-align: top;\n",
       "    }\n",
       "\n",
       "    .dataframe thead th {\n",
       "        text-align: right;\n",
       "    }\n",
       "</style>\n",
       "<table border=\"1\" class=\"dataframe\">\n",
       "  <thead>\n",
       "    <tr style=\"text-align: right;\">\n",
       "      <th></th>\n",
       "      <th>sub_0</th>\n",
       "      <th>sub_1</th>\n",
       "      <th>sub_2</th>\n",
       "      <th>sub_3</th>\n",
       "      <th>sub_4</th>\n",
       "      <th>sub_5</th>\n",
       "      <th>sub_6</th>\n",
       "      <th>sub_7</th>\n",
       "      <th>sub_8</th>\n",
       "      <th>sub_9</th>\n",
       "      <th>...</th>\n",
       "      <th>sub_4991</th>\n",
       "      <th>sub_4992</th>\n",
       "      <th>sub_4993</th>\n",
       "      <th>sub_4994</th>\n",
       "      <th>sub_4995</th>\n",
       "      <th>sub_4996</th>\n",
       "      <th>sub_4997</th>\n",
       "      <th>sub_4998</th>\n",
       "      <th>sub_4999</th>\n",
       "      <th>label</th>\n",
       "    </tr>\n",
       "  </thead>\n",
       "  <tbody>\n",
       "    <tr>\n",
       "      <th>0</th>\n",
       "      <td>0.709336</td>\n",
       "      <td>0.799007</td>\n",
       "      <td>0.851891</td>\n",
       "      <td>0.537158</td>\n",
       "      <td>0.623930</td>\n",
       "      <td>0.705970</td>\n",
       "      <td>0.503437</td>\n",
       "      <td>0.633185</td>\n",
       "      <td>0.641550</td>\n",
       "      <td>0.666604</td>\n",
       "      <td>...</td>\n",
       "      <td>0.750250</td>\n",
       "      <td>0.663370</td>\n",
       "      <td>0.739333</td>\n",
       "      <td>0.822384</td>\n",
       "      <td>0.749498</td>\n",
       "      <td>0.729800</td>\n",
       "      <td>0.867847</td>\n",
       "      <td>0.745888</td>\n",
       "      <td>0.787</td>\n",
       "      <td>0</td>\n",
       "    </tr>\n",
       "    <tr>\n",
       "      <th>1</th>\n",
       "      <td>0.452988</td>\n",
       "      <td>0.364453</td>\n",
       "      <td>0.567582</td>\n",
       "      <td>0.354468</td>\n",
       "      <td>0.513818</td>\n",
       "      <td>0.584119</td>\n",
       "      <td>0.454809</td>\n",
       "      <td>0.238501</td>\n",
       "      <td>0.472171</td>\n",
       "      <td>0.522314</td>\n",
       "      <td>...</td>\n",
       "      <td>0.794052</td>\n",
       "      <td>0.721298</td>\n",
       "      <td>0.804369</td>\n",
       "      <td>0.620626</td>\n",
       "      <td>0.733606</td>\n",
       "      <td>0.816942</td>\n",
       "      <td>0.814229</td>\n",
       "      <td>0.598331</td>\n",
       "      <td>0.547</td>\n",
       "      <td>1</td>\n",
       "    </tr>\n",
       "    <tr>\n",
       "      <th>2</th>\n",
       "      <td>0.675462</td>\n",
       "      <td>0.842260</td>\n",
       "      <td>0.800013</td>\n",
       "      <td>0.525229</td>\n",
       "      <td>0.692071</td>\n",
       "      <td>0.715418</td>\n",
       "      <td>0.651008</td>\n",
       "      <td>0.609124</td>\n",
       "      <td>0.691198</td>\n",
       "      <td>0.609994</td>\n",
       "      <td>...</td>\n",
       "      <td>0.779859</td>\n",
       "      <td>0.865657</td>\n",
       "      <td>0.828493</td>\n",
       "      <td>0.763010</td>\n",
       "      <td>0.802883</td>\n",
       "      <td>0.806891</td>\n",
       "      <td>0.896058</td>\n",
       "      <td>0.855776</td>\n",
       "      <td>0.667</td>\n",
       "      <td>1</td>\n",
       "    </tr>\n",
       "    <tr>\n",
       "      <th>3</th>\n",
       "      <td>0.481046</td>\n",
       "      <td>0.577118</td>\n",
       "      <td>0.683032</td>\n",
       "      <td>0.541356</td>\n",
       "      <td>0.630088</td>\n",
       "      <td>0.664514</td>\n",
       "      <td>0.413373</td>\n",
       "      <td>0.508210</td>\n",
       "      <td>0.526140</td>\n",
       "      <td>0.584565</td>\n",
       "      <td>...</td>\n",
       "      <td>0.799698</td>\n",
       "      <td>0.800130</td>\n",
       "      <td>0.716604</td>\n",
       "      <td>0.603779</td>\n",
       "      <td>0.708499</td>\n",
       "      <td>0.844837</td>\n",
       "      <td>0.853057</td>\n",
       "      <td>0.850657</td>\n",
       "      <td>0.622</td>\n",
       "      <td>1</td>\n",
       "    </tr>\n",
       "    <tr>\n",
       "      <th>4</th>\n",
       "      <td>0.957339</td>\n",
       "      <td>0.910337</td>\n",
       "      <td>0.917322</td>\n",
       "      <td>0.874487</td>\n",
       "      <td>0.787595</td>\n",
       "      <td>0.854273</td>\n",
       "      <td>0.843846</td>\n",
       "      <td>0.876749</td>\n",
       "      <td>0.821128</td>\n",
       "      <td>0.913054</td>\n",
       "      <td>...</td>\n",
       "      <td>0.900150</td>\n",
       "      <td>0.960911</td>\n",
       "      <td>0.906037</td>\n",
       "      <td>0.961240</td>\n",
       "      <td>0.935608</td>\n",
       "      <td>0.889757</td>\n",
       "      <td>0.978505</td>\n",
       "      <td>0.953681</td>\n",
       "      <td>0.934</td>\n",
       "      <td>0</td>\n",
       "    </tr>\n",
       "  </tbody>\n",
       "</table>\n",
       "<p>5 rows × 5001 columns</p>\n",
       "</div>"
      ],
      "text/plain": [
       "      sub_0     sub_1     sub_2     sub_3     sub_4     sub_5     sub_6  \\\n",
       "0  0.709336  0.799007  0.851891  0.537158  0.623930  0.705970  0.503437   \n",
       "1  0.452988  0.364453  0.567582  0.354468  0.513818  0.584119  0.454809   \n",
       "2  0.675462  0.842260  0.800013  0.525229  0.692071  0.715418  0.651008   \n",
       "3  0.481046  0.577118  0.683032  0.541356  0.630088  0.664514  0.413373   \n",
       "4  0.957339  0.910337  0.917322  0.874487  0.787595  0.854273  0.843846   \n",
       "\n",
       "      sub_7     sub_8     sub_9  ...  sub_4991  sub_4992  sub_4993  sub_4994  \\\n",
       "0  0.633185  0.641550  0.666604  ...  0.750250  0.663370  0.739333  0.822384   \n",
       "1  0.238501  0.472171  0.522314  ...  0.794052  0.721298  0.804369  0.620626   \n",
       "2  0.609124  0.691198  0.609994  ...  0.779859  0.865657  0.828493  0.763010   \n",
       "3  0.508210  0.526140  0.584565  ...  0.799698  0.800130  0.716604  0.603779   \n",
       "4  0.876749  0.821128  0.913054  ...  0.900150  0.960911  0.906037  0.961240   \n",
       "\n",
       "   sub_4995  sub_4996  sub_4997  sub_4998  sub_4999  label  \n",
       "0  0.749498  0.729800  0.867847  0.745888     0.787      0  \n",
       "1  0.733606  0.816942  0.814229  0.598331     0.547      1  \n",
       "2  0.802883  0.806891  0.896058  0.855776     0.667      1  \n",
       "3  0.708499  0.844837  0.853057  0.850657     0.622      1  \n",
       "4  0.935608  0.889757  0.978505  0.953681     0.934      0  \n",
       "\n",
       "[5 rows x 5001 columns]"
      ]
     },
     "execution_count": 30,
     "metadata": {},
     "output_type": "execute_result"
    }
   ],
   "source": [
    "data = pd.read_feather('./train.ftr')\n",
    "sub = pd.read_csv('./tabular-playground-series-nov-2022/sample_submission.csv')\n",
    "y = pd.read_csv(\"./tabular-playground-series-nov-2022/train_labels.csv\")\n",
    "\n",
    "train = data.loc[:19999, :]\n",
    "test = data.loc[20000:, :]\n",
    "\n",
    "# Add pseudo labeled dataset\n",
    "train_pseudo = pd.read_feather(\"./train_pseudo2.ftr\")\n",
    "train[\"label\"] = y[\"label\"].values\n",
    "train_new = pd.concat([train, train_pseudo])\n",
    "\n",
    "print(\"train_new.shape:\", train_new.shape)\n",
    "train_new.head()"
   ]
  },
  {
   "cell_type": "code",
   "execution_count": 31,
   "id": "31ab59db",
   "metadata": {},
   "outputs": [
    {
     "name": "stdout",
     "output_type": "stream",
     "text": [
      "train_new.shape: (21516, 631)\n"
     ]
    }
   ],
   "source": [
    "train_new.drop(drop_cols, axis=1, inplace=True)\n",
    "train.drop(drop_cols, axis=1, inplace=True)\n",
    "test.drop(drop_cols, axis=1, inplace=True)\n",
    "print(\"train_new.shape:\", train_new.shape)"
   ]
  },
  {
   "cell_type": "code",
   "execution_count": 32,
   "id": "c637731b",
   "metadata": {},
   "outputs": [],
   "source": [
    "model_lr = LogisticRegression().fit(train.drop(\"label\", axis=1), train[\"label\"])\n",
    "preds = model_lr.predict_proba(test)[:,1]\n",
    "sub[\"pred\"] = preds\n",
    "sub.to_csv(\"sub_baseline.csv\", index=False)"
   ]
  },
  {
   "cell_type": "code",
   "execution_count": 33,
   "id": "82d61163",
   "metadata": {},
   "outputs": [],
   "source": [
    "model_lr_p = LogisticRegression().fit(train_new.drop(\"label\", axis=1), train_new[\"label\"])\n",
    "preds_p = model_lr_p.predict_proba(test)[:,1]\n",
    "sub[\"pred\"] = preds_p\n",
    "sub.to_csv(\"sub_baseline_pseudo.csv\", index=False)"
   ]
  },
  {
   "cell_type": "code",
   "execution_count": 34,
   "id": "3002456b",
   "metadata": {},
   "outputs": [
    {
     "data": {
      "image/png": "[encoded data removed]",
      "text/plain": [
       "<Figure size 1600x400 with 1 Axes>"
      ]
     },
     "metadata": {},
     "output_type": "display_data"
    }
   ],
   "source": [
    "fig, ax = plt.subplots(figsize=(16, 4))\n",
    "ax.hist(preds, bins=100, alpha=0.5, color='b', label='normal')\n",
    "ax.hist(preds_p, bins=100, alpha=0.5, color='r', label='with_pseudo')\n",
    "ax.set_title(\"Predictions Histogram\");\n",
    "ax.legend();"
   ]
  },
  {
   "cell_type": "code",
   "execution_count": 35,
   "id": "0e4bdd49",
   "metadata": {},
   "outputs": [
    {
     "data": {
      "text/html": [
       "<div>\n",
       "<style scoped>\n",
       "    .dataframe tbody tr th:only-of-type {\n",
       "        vertical-align: middle;\n",
       "    }\n",
       "\n",
       "    .dataframe tbody tr th {\n",
       "        vertical-align: top;\n",
       "    }\n",
       "\n",
       "    .dataframe thead th {\n",
       "        text-align: right;\n",
       "    }\n",
       "</style>\n",
       "<table border=\"1\" class=\"dataframe\">\n",
       "  <thead>\n",
       "    <tr style=\"text-align: right;\">\n",
       "      <th></th>\n",
       "      <th>model</th>\n",
       "      <th>LB</th>\n",
       "    </tr>\n",
       "  </thead>\n",
       "  <tbody>\n",
       "    <tr>\n",
       "      <th>0</th>\n",
       "      <td>lr_normal</td>\n",
       "      <td>0.53931</td>\n",
       "    </tr>\n",
       "    <tr>\n",
       "      <th>1</th>\n",
       "      <td>lr_pseudo</td>\n",
       "      <td>0.53893</td>\n",
       "    </tr>\n",
       "  </tbody>\n",
       "</table>\n",
       "</div>"
      ],
      "text/plain": [
       "       model       LB\n",
       "0  lr_normal  0.53931\n",
       "1  lr_pseudo  0.53893"
      ]
     },
     "execution_count": 35,
     "metadata": {},
     "output_type": "execute_result"
    }
   ],
   "source": [
    "details = {\n",
    "    \"model\" : [\"lr_normal\", \"lr_pseudo\"],\n",
    "    \"LB\" : [0.53931, 0.53893]\n",
    "}\n",
    "df_scores = pd.DataFrame(details)\n",
    "df_scores"
   ]
  },
  {
   "cell_type": "markdown",
   "id": "432c846a",
   "metadata": {},
   "source": [
    "<br>"
   ]
  },
  {
   "cell_type": "markdown",
   "id": "427f0309",
   "metadata": {},
   "source": [
    "## Modeling"
   ]
  },
  {
   "cell_type": "markdown",
   "id": "fee37414",
   "metadata": {},
   "source": [
    "<br>"
   ]
  },
  {
   "cell_type": "code",
   "execution_count": 36,
   "id": "4d30c98a",
   "metadata": {},
   "outputs": [],
   "source": [
    "def add_umap_features(X_train, y_train, X_val, X_test, nfolds=5):\n",
    "    skf = StratifiedKFold(n_splits=nfolds, random_state=0, shuffle=True)\n",
    "    umap_train = np.zeros((X_train.shape[0], 2))\n",
    "    umap_valid = np.zeros((X_val.shape[0], 2))\n",
    "    umap_test = np.zeros((X_test.shape[0], 2))\n",
    "    for fold, (train_index, valid_index) in enumerate(skf.split(X_train.to_numpy(), y_train.to_numpy())):\n",
    "        X_temp_train, y_temp_train = X_train.to_numpy()[train_index,:], y_train.to_numpy()[train_index,:]\n",
    "        X_temp_valid, y_temp_valid = X_train.to_numpy()[valid_index,:], y_train.to_numpy()[valid_index,:]\n",
    "        \n",
    "        model_umap = umap.UMAP(n_neighbors=50, min_dist=0.5, metric='manhattan').fit(X_temp_train, y_temp_train)\n",
    "        temp_val_preds = model_umap.transform(X_temp_valid)\n",
    "        val_preds = model_umap.transform(X_val)\n",
    "        test_preds = model_umap.transform(X_test)\n",
    "        \n",
    "        umap_train[valid_index, :] = temp_val_preds\n",
    "        umap_valid[:, :] += val_preds / nfolds\n",
    "        umap_test[:, :] += test_preds / nfolds\n",
    "    \n",
    "    return umap_train, umap_valid, umap_test\n",
    "\n",
    "def add_pca_features(X_train, y_train, X_val, X_test, nfolds=5, n_components=4):\n",
    "    skf = StratifiedKFold(n_splits=nfolds, random_state=0, shuffle=True)\n",
    "    pca_train = np.zeros((X_train.shape[0], n_components))\n",
    "    pca_valid = np.zeros((X_val.shape[0], n_components))\n",
    "    pca_test = np.zeros((X_test.shape[0], n_components))\n",
    "    for fold, (train_index, valid_index) in enumerate(skf.split(X_train.to_numpy(), y_train.to_numpy())):\n",
    "        X_temp_train, y_temp_train = X_train.to_numpy()[train_index,:], y_train.to_numpy()[train_index,:]\n",
    "        X_temp_valid, y_temp_valid = X_train.to_numpy()[valid_index,:], y_train.to_numpy()[valid_index,:]\n",
    "        \n",
    "        model_pca = PCA(n_components=n_components, random_state=42).fit(X_temp_train, y_temp_train)\n",
    "        temp_val_preds = model_pca.transform(X_temp_valid)\n",
    "        val_preds = model_pca.transform(X_val)\n",
    "        test_preds = model_pca.transform(X_test)\n",
    "        \n",
    "        pca_train[valid_index, :] = temp_val_preds\n",
    "        pca_valid[:, :] += val_preds / nfolds\n",
    "        pca_test[:, :] += test_preds / nfolds\n",
    "    \n",
    "    return pca_train, pca_valid, pca_test\n",
    "\n",
    "#umap_train, umap_valid, umap_test = add_umap_features(X, y, X_test, X_test)"
   ]
  },
  {
   "cell_type": "code",
   "execution_count": 37,
   "id": "0d22fc9e",
   "metadata": {},
   "outputs": [],
   "source": [
    "X = train_new.drop(\"label\", axis=1).reset_index(drop=True)\n",
    "y = train_new[[\"label\"]].reset_index(drop=True)\n",
    "X_test = test"
   ]
  },
  {
   "cell_type": "markdown",
   "id": "699d100a",
   "metadata": {},
   "source": [
    "### LGBM"
   ]
  },
  {
   "cell_type": "code",
   "execution_count": 38,
   "id": "60dbdfc1",
   "metadata": {},
   "outputs": [],
   "source": [
    "# LGBM\n",
    "def get_lgbm_preds(X, y, X_test_ori, nfold=5, params_lgb={}):\n",
    "    skf = StratifiedKFold(n_splits=nfold, random_state=0, shuffle=True)\n",
    "    oof = np.zeros(X.shape[0])\n",
    "    test_preds = np.zeros((X_test_ori.shape[0], nfold))\n",
    "    for fold, (train_index, val_index) in enumerate(skf.split(X, y)):\n",
    "        print(\"\\nFold {}\".format(fold+1))\n",
    "        X_train, y_train = X.loc[train_index,:], y.loc[train_index,:]\n",
    "        X_val, y_val = X.loc[val_index,:], y.loc[val_index,:]\n",
    "        X_test = X_test_ori.copy()\n",
    "        \n",
    "        #Adding PCA Features\n",
    "        pca_train, pca_valid, pca_test = add_pca_features(X_train, y_train, X_val, X_test, nfolds=5, n_components=4)\n",
    "        for feature_index in range(pca_train.shape[1]):\n",
    "            X_train[f\"pca_{feature_index+1}\"] = pca_train[:,feature_index]\n",
    "            X_val[f\"pca_{feature_index+1}\"] = pca_valid[:,feature_index]\n",
    "            X_test[f\"pca_{feature_index+1}\"] = pca_test[:,feature_index]\n",
    "            \n",
    "        dtrain = lgb.Dataset(X_train, y_train)\n",
    "        dval = lgb.Dataset(X_val, y_val)\n",
    "        \n",
    "        evals_result = {}\n",
    "        model = lgb.train(params=params_lgb, train_set=dtrain, valid_sets=[dval], num_boost_round=3000, \n",
    "                          early_stopping_rounds=50, verbose_eval=100, evals_result=evals_result)\n",
    "        \n",
    "        val_pred = model.predict(X_val)\n",
    "        test_pred = model.predict(X_test)\n",
    "\n",
    "        oof[val_index] = val_pred\n",
    "        test_preds[:,fold] = test_pred\n",
    "\n",
    "        del model, dtrain, dval, X_train, X_val, y_train, y_val\n",
    "        gc.collect()\n",
    "    test_preds = hmean(test_preds, axis=1)\n",
    "    return oof, test_preds"
   ]
  },
  {
   "cell_type": "markdown",
   "id": "9c0e4b1b",
   "metadata": {},
   "source": [
    "### Hyperparameter Tuning"
   ]
  },
  {
   "cell_type": "code",
   "execution_count": 39,
   "id": "d4e6c0a7",
   "metadata": {},
   "outputs": [],
   "source": [
    "# Hyperparameter Tuning\n",
    "import optuna\n",
    "\n",
    "def objective(trial):\n",
    "    params = {\n",
    "        \"objective\": \"binary\",\n",
    "        \"metric\": \"binary_logloss\",\n",
    "        \"learning_rate\": 0.01,\n",
    "        \"max_depth\":6,\n",
    "        'random_state': 42,\n",
    "        \"n_jobs\":-1,\n",
    "        \"seed\":123,\n",
    "        \"verbose\":-1,\n",
    "        \"num_leaves\":trial.suggest_int('num_leaves', 10, 200, step=10),\n",
    "        \"min_data_in_leaf\":trial.suggest_int('min_data_in_leaf', 10, 100, step=10),\n",
    "        'lambda_l1': trial.suggest_float('alpha', 0.0001, 10.0),\n",
    "        'lambda_l2': trial.suggest_float('lambda', 0.0001, 10.0),\n",
    "        'subsample': trial.suggest_float('subsample', 0.2, 1.0, step=0.1),\n",
    "        'feature_fraction': trial.suggest_float('feature_fraction', 0.2, 1.0, step=0.1),\n",
    "    }\n",
    "    \n",
    "    '''\n",
    "    skf = StratifiedKFold(n_splits=5, random_state=0, shuffle=True)\n",
    "    score_list = []\n",
    "    for fold, (train_index, val_index) in enumerate(skf.split(X, y)):\n",
    "        dtrain = lgb.Dataset(X.loc[train_index,:], y.loc[train_index,:])\n",
    "        dval = lgb.Dataset(X.loc[val_index,:], y.loc[val_index,:])\n",
    "        \n",
    "        evals_result = {}\n",
    "        model = lgb.train(params=params, train_set=dtrain, valid_sets=[dval], num_boost_round=1000, \n",
    "                          early_stopping_rounds=10, verbose_eval=0, evals_result=evals_result)\n",
    "        score = evals_result['valid_0'][\"binary_logloss\"][model.num_trees()-1]\n",
    "        score_list.append(score)\n",
    "\n",
    "        del model, dtrain, dval\n",
    "        gc.collect()\n",
    "    '''\n",
    "    \n",
    "    skf = StratifiedKFold(n_splits=5, random_state=0, shuffle=True)\n",
    "    trainlist, validlist = [], []\n",
    "    for train_index, val_index in skf.split(X, y):\n",
    "        trainlist.append(train_index)\n",
    "        validlist.append(val_index)\n",
    "    folds = zip(trainlist, validlist)\n",
    "    \n",
    "    dataset = lgb.Dataset(X, y)\n",
    "    res = lgb.cv(\n",
    "        params, dataset, num_boost_round=1000, verbose_eval=0,\n",
    "        early_stopping_rounds=10,\n",
    "        folds=folds,\n",
    "        stratified=False,\n",
    "    )\n",
    "    \n",
    "    return res[\"binary_logloss-mean\"][-1] + res[\"binary_logloss-stdv\"][-1]"
   ]
  },
  {
   "cell_type": "code",
   "execution_count": 40,
   "id": "0a09516a",
   "metadata": {},
   "outputs": [],
   "source": [
    "'''\n",
    "# Base score = 0.4804388\n",
    "study = optuna.create_study(direction='minimize')\n",
    "study.optimize(objective, n_trials=493)\n",
    "print('Number of finished trials: ', len(study.trials))\n",
    "print('Best trial: ', study.best_trial.params)\n",
    "print('Best value: ', study.best_value)\n",
    "''';"
   ]
  },
  {
   "cell_type": "code",
   "execution_count": 41,
   "id": "22dbf8e1",
   "metadata": {},
   "outputs": [
    {
     "name": "stdout",
     "output_type": "stream",
     "text": [
      "\n",
      "Fold 1\n",
      "[LightGBM] [Warning] seed is set=123, random_state=42 will be ignored. Current value: seed=123\n",
      "Training until validation scores don't improve for 50 rounds\n",
      "[100]\tvalid_0's binary_logloss: 0.614259\n",
      "[200]\tvalid_0's binary_logloss: 0.568163\n",
      "[300]\tvalid_0's binary_logloss: 0.539536\n",
      "[400]\tvalid_0's binary_logloss: 0.521285\n",
      "[500]\tvalid_0's binary_logloss: 0.509746\n",
      "[600]\tvalid_0's binary_logloss: 0.50235\n",
      "[700]\tvalid_0's binary_logloss: 0.497526\n",
      "[800]\tvalid_0's binary_logloss: 0.494339\n",
      "[900]\tvalid_0's binary_logloss: 0.49243\n",
      "[1000]\tvalid_0's binary_logloss: 0.491288\n",
      "[1100]\tvalid_0's binary_logloss: 0.490592\n",
      "[1200]\tvalid_0's binary_logloss: 0.490175\n",
      "[1300]\tvalid_0's binary_logloss: 0.489967\n",
      "[1400]\tvalid_0's binary_logloss: 0.489982\n",
      "Early stopping, best iteration is:\n",
      "[1360]\tvalid_0's binary_logloss: 0.489937\n",
      "\n",
      "Fold 2\n",
      "[LightGBM] [Warning] seed is set=123, random_state=42 will be ignored. Current value: seed=123\n",
      "Training until validation scores don't improve for 50 rounds\n",
      "[100]\tvalid_0's binary_logloss: 0.621384\n",
      "[200]\tvalid_0's binary_logloss: 0.579603\n",
      "[300]\tvalid_0's binary_logloss: 0.554068\n",
      "[400]\tvalid_0's binary_logloss: 0.538004\n",
      "[500]\tvalid_0's binary_logloss: 0.527732\n",
      "[600]\tvalid_0's binary_logloss: 0.521152\n",
      "[700]\tvalid_0's binary_logloss: 0.517191\n",
      "[800]\tvalid_0's binary_logloss: 0.514835\n",
      "[900]\tvalid_0's binary_logloss: 0.51315\n",
      "[1000]\tvalid_0's binary_logloss: 0.512213\n",
      "[1100]\tvalid_0's binary_logloss: 0.511572\n",
      "[1200]\tvalid_0's binary_logloss: 0.511136\n",
      "[1300]\tvalid_0's binary_logloss: 0.510904\n",
      "[1400]\tvalid_0's binary_logloss: 0.51089\n",
      "Early stopping, best iteration is:\n",
      "[1356]\tvalid_0's binary_logloss: 0.510837\n",
      "\n",
      "Fold 3\n",
      "[LightGBM] [Warning] seed is set=123, random_state=42 will be ignored. Current value: seed=123\n",
      "Training until validation scores don't improve for 50 rounds\n",
      "[100]\tvalid_0's binary_logloss: 0.613507\n",
      "[200]\tvalid_0's binary_logloss: 0.566198\n",
      "[300]\tvalid_0's binary_logloss: 0.536395\n",
      "[400]\tvalid_0's binary_logloss: 0.517629\n",
      "[500]\tvalid_0's binary_logloss: 0.505415\n",
      "[600]\tvalid_0's binary_logloss: 0.497332\n",
      "[700]\tvalid_0's binary_logloss: 0.492186\n",
      "[800]\tvalid_0's binary_logloss: 0.488714\n",
      "[900]\tvalid_0's binary_logloss: 0.486297\n",
      "[1000]\tvalid_0's binary_logloss: 0.484837\n",
      "[1100]\tvalid_0's binary_logloss: 0.483776\n",
      "[1200]\tvalid_0's binary_logloss: 0.483102\n",
      "[1300]\tvalid_0's binary_logloss: 0.482674\n",
      "[1400]\tvalid_0's binary_logloss: 0.482522\n",
      "[1500]\tvalid_0's binary_logloss: 0.48255\n",
      "Early stopping, best iteration is:\n",
      "[1460]\tvalid_0's binary_logloss: 0.482456\n",
      "\n",
      "Fold 4\n",
      "[LightGBM] [Warning] seed is set=123, random_state=42 will be ignored. Current value: seed=123\n",
      "Training until validation scores don't improve for 50 rounds\n",
      "[100]\tvalid_0's binary_logloss: 0.612448\n",
      "[200]\tvalid_0's binary_logloss: 0.564465\n",
      "[300]\tvalid_0's binary_logloss: 0.534433\n",
      "[400]\tvalid_0's binary_logloss: 0.515186\n",
      "[500]\tvalid_0's binary_logloss: 0.502543\n",
      "[600]\tvalid_0's binary_logloss: 0.494043\n",
      "[700]\tvalid_0's binary_logloss: 0.488311\n",
      "[800]\tvalid_0's binary_logloss: 0.484475\n",
      "[900]\tvalid_0's binary_logloss: 0.481891\n",
      "[1000]\tvalid_0's binary_logloss: 0.480284\n",
      "[1100]\tvalid_0's binary_logloss: 0.479191\n",
      "[1200]\tvalid_0's binary_logloss: 0.478329\n",
      "[1300]\tvalid_0's binary_logloss: 0.477834\n",
      "[1400]\tvalid_0's binary_logloss: 0.47737\n",
      "[1500]\tvalid_0's binary_logloss: 0.477115\n",
      "[1600]\tvalid_0's binary_logloss: 0.476874\n",
      "[1700]\tvalid_0's binary_logloss: 0.476702\n",
      "[1800]\tvalid_0's binary_logloss: 0.476662\n",
      "Early stopping, best iteration is:\n",
      "[1755]\tvalid_0's binary_logloss: 0.476644\n",
      "\n",
      "Fold 5\n",
      "[LightGBM] [Warning] seed is set=123, random_state=42 will be ignored. Current value: seed=123\n",
      "Training until validation scores don't improve for 50 rounds\n",
      "[100]\tvalid_0's binary_logloss: 0.61524\n",
      "[200]\tvalid_0's binary_logloss: 0.568472\n",
      "[300]\tvalid_0's binary_logloss: 0.538856\n",
      "[400]\tvalid_0's binary_logloss: 0.519509\n",
      "[500]\tvalid_0's binary_logloss: 0.506517\n",
      "[600]\tvalid_0's binary_logloss: 0.497517\n",
      "[700]\tvalid_0's binary_logloss: 0.491272\n",
      "[800]\tvalid_0's binary_logloss: 0.486945\n",
      "[900]\tvalid_0's binary_logloss: 0.484011\n",
      "[1000]\tvalid_0's binary_logloss: 0.481841\n",
      "[1100]\tvalid_0's binary_logloss: 0.480288\n",
      "[1200]\tvalid_0's binary_logloss: 0.479172\n",
      "[1300]\tvalid_0's binary_logloss: 0.478429\n",
      "[1400]\tvalid_0's binary_logloss: 0.477985\n",
      "[1500]\tvalid_0's binary_logloss: 0.477634\n",
      "[1600]\tvalid_0's binary_logloss: 0.477447\n",
      "[1700]\tvalid_0's binary_logloss: 0.477363\n",
      "Early stopping, best iteration is:\n",
      "[1696]\tvalid_0's binary_logloss: 0.477346\n",
      "\n",
      "Fold 6\n",
      "[LightGBM] [Warning] seed is set=123, random_state=42 will be ignored. Current value: seed=123\n",
      "Training until validation scores don't improve for 50 rounds\n",
      "[100]\tvalid_0's binary_logloss: 0.613137\n",
      "[200]\tvalid_0's binary_logloss: 0.565493\n",
      "[300]\tvalid_0's binary_logloss: 0.53552\n",
      "[400]\tvalid_0's binary_logloss: 0.516079\n",
      "[500]\tvalid_0's binary_logloss: 0.503359\n",
      "[600]\tvalid_0's binary_logloss: 0.494902\n",
      "[700]\tvalid_0's binary_logloss: 0.489401\n",
      "[800]\tvalid_0's binary_logloss: 0.485594\n",
      "[900]\tvalid_0's binary_logloss: 0.482931\n",
      "[1000]\tvalid_0's binary_logloss: 0.481001\n",
      "[1100]\tvalid_0's binary_logloss: 0.479638\n",
      "[1200]\tvalid_0's binary_logloss: 0.478595\n",
      "[1300]\tvalid_0's binary_logloss: 0.477968\n",
      "[1400]\tvalid_0's binary_logloss: 0.477565\n",
      "[1500]\tvalid_0's binary_logloss: 0.477245\n",
      "[1600]\tvalid_0's binary_logloss: 0.477125\n",
      "[1700]\tvalid_0's binary_logloss: 0.477078\n",
      "Early stopping, best iteration is:\n",
      "[1654]\tvalid_0's binary_logloss: 0.477045\n",
      "\n",
      "Fold 7\n",
      "[LightGBM] [Warning] seed is set=123, random_state=42 will be ignored. Current value: seed=123\n",
      "Training until validation scores don't improve for 50 rounds\n",
      "[100]\tvalid_0's binary_logloss: 0.621289\n",
      "[200]\tvalid_0's binary_logloss: 0.579515\n",
      "[300]\tvalid_0's binary_logloss: 0.554154\n",
      "[400]\tvalid_0's binary_logloss: 0.538272\n",
      "[500]\tvalid_0's binary_logloss: 0.528206\n",
      "[600]\tvalid_0's binary_logloss: 0.521903\n",
      "[700]\tvalid_0's binary_logloss: 0.51799\n",
      "[800]\tvalid_0's binary_logloss: 0.515482\n",
      "[900]\tvalid_0's binary_logloss: 0.514031\n",
      "[1000]\tvalid_0's binary_logloss: 0.513112\n",
      "[1100]\tvalid_0's binary_logloss: 0.512524\n",
      "[1200]\tvalid_0's binary_logloss: 0.512069\n",
      "[1300]\tvalid_0's binary_logloss: 0.511889\n",
      "Early stopping, best iteration is:\n",
      "[1305]\tvalid_0's binary_logloss: 0.511874\n",
      "\n",
      "Fold 8\n",
      "[LightGBM] [Warning] seed is set=123, random_state=42 will be ignored. Current value: seed=123\n",
      "Training until validation scores don't improve for 50 rounds\n",
      "[100]\tvalid_0's binary_logloss: 0.617602\n",
      "[200]\tvalid_0's binary_logloss: 0.573036\n",
      "[300]\tvalid_0's binary_logloss: 0.545195\n",
      "[400]\tvalid_0's binary_logloss: 0.527175\n",
      "[500]\tvalid_0's binary_logloss: 0.515285\n",
      "[600]\tvalid_0's binary_logloss: 0.507328\n",
      "[700]\tvalid_0's binary_logloss: 0.502177\n",
      "[800]\tvalid_0's binary_logloss: 0.498646\n",
      "[900]\tvalid_0's binary_logloss: 0.496272\n",
      "[1000]\tvalid_0's binary_logloss: 0.494461\n",
      "[1100]\tvalid_0's binary_logloss: 0.493286\n",
      "[1200]\tvalid_0's binary_logloss: 0.492468\n",
      "[1300]\tvalid_0's binary_logloss: 0.491887\n",
      "[1400]\tvalid_0's binary_logloss: 0.491446\n",
      "[1500]\tvalid_0's binary_logloss: 0.491176\n",
      "[1600]\tvalid_0's binary_logloss: 0.490944\n",
      "[1700]\tvalid_0's binary_logloss: 0.490731\n",
      "[1800]\tvalid_0's binary_logloss: 0.490592\n",
      "[1900]\tvalid_0's binary_logloss: 0.490454\n",
      "[2000]\tvalid_0's binary_logloss: 0.490291\n",
      "[2100]\tvalid_0's binary_logloss: 0.490138\n",
      "Early stopping, best iteration is:\n",
      "[2083]\tvalid_0's binary_logloss: 0.49009\n",
      "\n",
      "Fold 9\n",
      "[LightGBM] [Warning] seed is set=123, random_state=42 will be ignored. Current value: seed=123\n",
      "Training until validation scores don't improve for 50 rounds\n",
      "[100]\tvalid_0's binary_logloss: 0.614161\n",
      "[200]\tvalid_0's binary_logloss: 0.567667\n",
      "[300]\tvalid_0's binary_logloss: 0.538742\n",
      "[400]\tvalid_0's binary_logloss: 0.520405\n",
      "[500]\tvalid_0's binary_logloss: 0.508527\n",
      "[600]\tvalid_0's binary_logloss: 0.500603\n",
      "[700]\tvalid_0's binary_logloss: 0.49552\n",
      "[800]\tvalid_0's binary_logloss: 0.492132\n",
      "[900]\tvalid_0's binary_logloss: 0.489965\n",
      "[1000]\tvalid_0's binary_logloss: 0.488486\n",
      "[1100]\tvalid_0's binary_logloss: 0.487352\n",
      "[1200]\tvalid_0's binary_logloss: 0.486605\n",
      "[1300]\tvalid_0's binary_logloss: 0.486185\n",
      "[1400]\tvalid_0's binary_logloss: 0.485848\n",
      "[1500]\tvalid_0's binary_logloss: 0.485596\n",
      "[1600]\tvalid_0's binary_logloss: 0.485512\n",
      "Early stopping, best iteration is:\n",
      "[1571]\tvalid_0's binary_logloss: 0.485456\n",
      "\n",
      "Fold 10\n",
      "[LightGBM] [Warning] seed is set=123, random_state=42 will be ignored. Current value: seed=123\n"
     ]
    },
    {
     "name": "stdout",
     "output_type": "stream",
     "text": [
      "Training until validation scores don't improve for 50 rounds\n",
      "[100]\tvalid_0's binary_logloss: 0.616166\n",
      "[200]\tvalid_0's binary_logloss: 0.5705\n",
      "[300]\tvalid_0's binary_logloss: 0.541991\n",
      "[400]\tvalid_0's binary_logloss: 0.52386\n",
      "[500]\tvalid_0's binary_logloss: 0.51198\n",
      "[600]\tvalid_0's binary_logloss: 0.504132\n",
      "[700]\tvalid_0's binary_logloss: 0.499\n",
      "[800]\tvalid_0's binary_logloss: 0.495346\n",
      "[900]\tvalid_0's binary_logloss: 0.492944\n",
      "[1000]\tvalid_0's binary_logloss: 0.491203\n",
      "[1100]\tvalid_0's binary_logloss: 0.490159\n",
      "[1200]\tvalid_0's binary_logloss: 0.489423\n",
      "[1300]\tvalid_0's binary_logloss: 0.489009\n",
      "[1400]\tvalid_0's binary_logloss: 0.488778\n",
      "[1500]\tvalid_0's binary_logloss: 0.488665\n",
      "Early stopping, best iteration is:\n",
      "[1490]\tvalid_0's binary_logloss: 0.488627\n",
      "\n",
      "Fold 11\n",
      "[LightGBM] [Warning] seed is set=123, random_state=42 will be ignored. Current value: seed=123\n",
      "Training until validation scores don't improve for 50 rounds\n",
      "[100]\tvalid_0's binary_logloss: 0.61218\n",
      "[200]\tvalid_0's binary_logloss: 0.564116\n",
      "[300]\tvalid_0's binary_logloss: 0.533898\n",
      "[400]\tvalid_0's binary_logloss: 0.514579\n",
      "[500]\tvalid_0's binary_logloss: 0.502098\n",
      "[600]\tvalid_0's binary_logloss: 0.49384\n",
      "[700]\tvalid_0's binary_logloss: 0.488324\n",
      "[800]\tvalid_0's binary_logloss: 0.484629\n",
      "[900]\tvalid_0's binary_logloss: 0.482405\n",
      "[1000]\tvalid_0's binary_logloss: 0.480998\n",
      "[1100]\tvalid_0's binary_logloss: 0.480105\n",
      "[1200]\tvalid_0's binary_logloss: 0.479586\n",
      "[1300]\tvalid_0's binary_logloss: 0.479277\n",
      "[1400]\tvalid_0's binary_logloss: 0.479052\n",
      "[1500]\tvalid_0's binary_logloss: 0.479035\n",
      "Early stopping, best iteration is:\n",
      "[1464]\tvalid_0's binary_logloss: 0.479002\n",
      "\n",
      "Fold 12\n",
      "[LightGBM] [Warning] seed is set=123, random_state=42 will be ignored. Current value: seed=123\n",
      "Training until validation scores don't improve for 50 rounds\n",
      "[100]\tvalid_0's binary_logloss: 0.6142\n",
      "[200]\tvalid_0's binary_logloss: 0.567195\n",
      "[300]\tvalid_0's binary_logloss: 0.53745\n",
      "[400]\tvalid_0's binary_logloss: 0.518383\n",
      "[500]\tvalid_0's binary_logloss: 0.505779\n",
      "[600]\tvalid_0's binary_logloss: 0.49726\n",
      "[700]\tvalid_0's binary_logloss: 0.491392\n",
      "[800]\tvalid_0's binary_logloss: 0.487569\n",
      "[900]\tvalid_0's binary_logloss: 0.484938\n",
      "[1000]\tvalid_0's binary_logloss: 0.483233\n",
      "[1100]\tvalid_0's binary_logloss: 0.481964\n",
      "[1200]\tvalid_0's binary_logloss: 0.480968\n",
      "[1300]\tvalid_0's binary_logloss: 0.480273\n",
      "[1400]\tvalid_0's binary_logloss: 0.479862\n",
      "[1500]\tvalid_0's binary_logloss: 0.479629\n",
      "[1600]\tvalid_0's binary_logloss: 0.479296\n",
      "[1700]\tvalid_0's binary_logloss: 0.479096\n",
      "[1800]\tvalid_0's binary_logloss: 0.479021\n",
      "[1900]\tvalid_0's binary_logloss: 0.478894\n",
      "Early stopping, best iteration is:\n",
      "[1949]\tvalid_0's binary_logloss: 0.478749\n",
      "\n",
      "Fold 13\n",
      "[LightGBM] [Warning] seed is set=123, random_state=42 will be ignored. Current value: seed=123\n",
      "Training until validation scores don't improve for 50 rounds\n",
      "[100]\tvalid_0's binary_logloss: 0.618272\n",
      "[200]\tvalid_0's binary_logloss: 0.574187\n",
      "[300]\tvalid_0's binary_logloss: 0.546899\n",
      "[400]\tvalid_0's binary_logloss: 0.529525\n",
      "[500]\tvalid_0's binary_logloss: 0.518523\n",
      "[600]\tvalid_0's binary_logloss: 0.511106\n",
      "[700]\tvalid_0's binary_logloss: 0.50639\n",
      "[800]\tvalid_0's binary_logloss: 0.503257\n",
      "[900]\tvalid_0's binary_logloss: 0.501063\n",
      "[1000]\tvalid_0's binary_logloss: 0.499731\n",
      "[1100]\tvalid_0's binary_logloss: 0.498766\n",
      "[1200]\tvalid_0's binary_logloss: 0.498133\n",
      "[1300]\tvalid_0's binary_logloss: 0.497759\n",
      "[1400]\tvalid_0's binary_logloss: 0.497624\n",
      "Early stopping, best iteration is:\n",
      "[1398]\tvalid_0's binary_logloss: 0.497613\n"
     ]
    }
   ],
   "source": [
    "params_lgb = {\n",
    "    \"objective\": \"binary\",\n",
    "    \"metric\": \"binary_logloss\",\n",
    "    \"learning_rate\": 0.003,\n",
    "    \"max_depth\":6,\n",
    "    'random_state': 42,\n",
    "    \"n_jobs\":-1,\n",
    "    \"seed\":123,\n",
    "    \"verbose\":-1,\n",
    "    'num_leaves': 160, \n",
    "    'min_data_in_leaf': 10, \n",
    "    'alpha': 0.5091797271529079, \n",
    "    'lambda': 0.35380392843435005, \n",
    "    'subsample': 0.9000000000000001, \n",
    "    'feature_fraction': 0.4\n",
    "}\n",
    "\n",
    "lgbm_val_preds, lgbm_test_preds = get_lgbm_preds(X, y, X_test, nfold=13, params_lgb=params_lgb)"
   ]
  },
  {
   "cell_type": "code",
   "execution_count": 42,
   "id": "4866edd0",
   "metadata": {},
   "outputs": [
    {
     "name": "stdout",
     "output_type": "stream",
     "text": [
      "score=0.4881290761434728\n"
     ]
    },
    {
     "data": {
      "image/png": "[encoded data removed]",
      "text/plain": [
       "<Figure size 1600x400 with 2 Axes>"
      ]
     },
     "metadata": {},
     "output_type": "display_data"
    }
   ],
   "source": [
    "print(f\"score={log_loss(y, lgbm_val_preds)}\")\n",
    "fig, axes = plt.subplots(1, 2, figsize=(16,4))\n",
    "axes[0].hist(lgbm_val_preds, bins=100);\n",
    "axes[0].set_title(\"Train Predictions Histogram\")\n",
    "axes[1].hist(lgbm_test_preds, bins=100);\n",
    "axes[1].set_title(\"Test Predictions Histogram\");\n",
    "plt.show()"
   ]
  },
  {
   "cell_type": "code",
   "execution_count": 43,
   "id": "04d9e673",
   "metadata": {},
   "outputs": [],
   "source": [
    "sub = pd.read_csv('./tabular-playground-series-nov-2022/sample_submission.csv')\n",
    "sub[\"pred\"] = lgbm_test_preds\n",
    "sub.to_csv(\"sub_lgbm_pseudo.csv\", index=False)"
   ]
  },
  {
   "cell_type": "markdown",
   "id": "640f431b",
   "metadata": {},
   "source": [
    "### XGB"
   ]
  },
  {
   "cell_type": "code",
   "execution_count": 44,
   "id": "7524d0d0",
   "metadata": {},
   "outputs": [],
   "source": [
    "def get_xgb_preds(X, y, X_test_ori, nfold=5, params_xgb={}):\n",
    "    skf = StratifiedKFold(n_splits=nfold, random_state=0, shuffle=True)\n",
    "    oof = np.zeros(X.shape[0])\n",
    "    test_preds = np.zeros((X_test_ori.shape[0], nfold))\n",
    "    for fold, (train_index, val_index) in enumerate(skf.split(X, y)):\n",
    "        print(\"\\nFold {}\".format(fold+1))\n",
    "        X_train, y_train = X.loc[train_index,:], y.loc[train_index,:]\n",
    "        X_val, y_val = X.loc[val_index,:], y.loc[val_index,:]\n",
    "        X_test = X_test_ori.copy()\n",
    "        \n",
    "        #Adding PCA Features\n",
    "        pca_train, pca_valid, pca_test = add_pca_features(X_train, y_train, X_val, X_test, nfolds=5, n_components=4)\n",
    "        for feature_index in range(pca_train.shape[1]):\n",
    "            X_train[f\"pca_{feature_index+1}\"] = pca_train[:,feature_index]\n",
    "            X_val[f\"pca_{feature_index+1}\"] = pca_valid[:,feature_index]\n",
    "            X_test[f\"pca_{feature_index+1}\"] = pca_test[:,feature_index]\n",
    "        \n",
    "        dtrain = xgb.DMatrix(X_train, label=y_train)\n",
    "        dval = xgb.DMatrix(X_val, label=y_val)\n",
    "        \n",
    "        evals_result = {}\n",
    "        model = xgb.train(params=params_xgb, dtrain=dtrain, evals=[(dval, \"eval\")], num_boost_round=3000, \n",
    "                          early_stopping_rounds=50, verbose_eval=100, evals_result=evals_result)\n",
    "        \n",
    "        val_pred = model.predict(dval)\n",
    "        test_pred = model.predict(xgb.DMatrix(X_test))\n",
    "\n",
    "        oof[val_index] = val_pred\n",
    "        test_preds[:,fold] = test_pred\n",
    "\n",
    "        del model, dtrain, dval, X_train, X_val, y_train, y_val\n",
    "        gc.collect()\n",
    "    test_preds = hmean(test_preds, axis=1)\n",
    "    return oof, test_preds"
   ]
  },
  {
   "cell_type": "code",
   "execution_count": 45,
   "id": "e9c19b72",
   "metadata": {},
   "outputs": [
    {
     "name": "stdout",
     "output_type": "stream",
     "text": [
      "\n",
      "Fold 1\n"
     ]
    },
    {
     "ename": "XGBoostError",
     "evalue": "[04:06:06] /Users/runner/miniforge3/conda-bld/xgboost-split_1665562906201/work/src/gbm/../common/common.h:239: XGBoost version not compiled with GPU support.\nStack trace:\n  [bt] (0) 1   libxgboost.dylib                    0x0000000172f135b4 dmlc::LogMessageFatal::~LogMessageFatal() + 116\n  [bt] (1) 2   libxgboost.dylib                    0x0000000172febf70 xgboost::gbm::GBTree::ConfigureUpdaters() + 608\n  [bt] (2) 3   libxgboost.dylib                    0x0000000172fe662a xgboost::gbm::GBTree::Configure(std::__1::vector<std::__1::pair<std::__1::basic_string<char, std::__1::char_traits<char>, std::__1::allocator<char> >, std::__1::basic_string<char, std::__1::char_traits<char>, std::__1::allocator<char> > >, std::__1::allocator<std::__1::pair<std::__1::basic_string<char, std::__1::char_traits<char>, std::__1::allocator<char> >, std::__1::basic_string<char, std::__1::char_traits<char>, std::__1::allocator<char> > > > > const&) + 1114\n  [bt] (3) 4   libxgboost.dylib                    0x000000017300936f xgboost::LearnerConfiguration::Configure() + 1327\n  [bt] (4) 5   libxgboost.dylib                    0x0000000172f2a2f0 XGBoosterBoostedRounds + 112\n  [bt] (5) 6   libffi.8.dylib                      0x000000010d181d92 ffi_call_unix64 + 82\n  [bt] (6) 7   ???                                 0x00000003099a0670 0x0 + 13045991024\n\n",
     "output_type": "error",
     "traceback": [
      "\u001b[0;31m---------------------------------------------------------------------------\u001b[0m",
      "\u001b[0;31mXGBoostError\u001b[0m                              Traceback (most recent call last)",
      "\u001b[0;32m/var/folders/4h/b2cqm88s3cl_l0lpwl10b69r0000gn/T/ipykernel_99785/4138057270.py\u001b[0m in \u001b[0;36m<module>\u001b[0;34m\u001b[0m\n\u001b[1;32m     14\u001b[0m }\n\u001b[1;32m     15\u001b[0m \u001b[0;34m\u001b[0m\u001b[0m\n\u001b[0;32m---> 16\u001b[0;31m \u001b[0mxgb_val_preds\u001b[0m\u001b[0;34m,\u001b[0m \u001b[0mxgb_test_preds\u001b[0m \u001b[0;34m=\u001b[0m \u001b[0mget_xgb_preds\u001b[0m\u001b[0;34m(\u001b[0m\u001b[0mX\u001b[0m\u001b[0;34m,\u001b[0m \u001b[0my\u001b[0m\u001b[0;34m,\u001b[0m \u001b[0mX_test\u001b[0m\u001b[0;34m,\u001b[0m \u001b[0mnfold\u001b[0m\u001b[0;34m=\u001b[0m\u001b[0;36m13\u001b[0m\u001b[0;34m,\u001b[0m \u001b[0mparams_xgb\u001b[0m\u001b[0;34m=\u001b[0m\u001b[0mparams_xgb\u001b[0m\u001b[0;34m)\u001b[0m\u001b[0;34m\u001b[0m\u001b[0;34m\u001b[0m\u001b[0m\n\u001b[0m",
      "\u001b[0;32m/var/folders/4h/b2cqm88s3cl_l0lpwl10b69r0000gn/T/ipykernel_99785/1030057766.py\u001b[0m in \u001b[0;36mget_xgb_preds\u001b[0;34m(X, y, X_test_ori, nfold, params_xgb)\u001b[0m\n\u001b[1;32m     21\u001b[0m         \u001b[0mevals_result\u001b[0m \u001b[0;34m=\u001b[0m \u001b[0;34m{\u001b[0m\u001b[0;34m}\u001b[0m\u001b[0;34m\u001b[0m\u001b[0;34m\u001b[0m\u001b[0m\n\u001b[1;32m     22\u001b[0m         model = xgb.train(params=params_xgb, dtrain=dtrain, evals=[(dval, \"eval\")], num_boost_round=3000, \n\u001b[0;32m---> 23\u001b[0;31m                           early_stopping_rounds=50, verbose_eval=100, evals_result=evals_result)\n\u001b[0m\u001b[1;32m     24\u001b[0m \u001b[0;34m\u001b[0m\u001b[0m\n\u001b[1;32m     25\u001b[0m         \u001b[0mval_pred\u001b[0m \u001b[0;34m=\u001b[0m \u001b[0mmodel\u001b[0m\u001b[0;34m.\u001b[0m\u001b[0mpredict\u001b[0m\u001b[0;34m(\u001b[0m\u001b[0mdval\u001b[0m\u001b[0;34m)\u001b[0m\u001b[0;34m\u001b[0m\u001b[0;34m\u001b[0m\u001b[0m\n",
      "\u001b[0;32m~/opt/anaconda3/envs/sainthm/lib/python3.7/site-packages/xgboost/core.py\u001b[0m in \u001b[0;36minner_f\u001b[0;34m(*args, **kwargs)\u001b[0m\n\u001b[1;32m    573\u001b[0m         \u001b[0;32mfor\u001b[0m \u001b[0mk\u001b[0m\u001b[0;34m,\u001b[0m \u001b[0marg\u001b[0m \u001b[0;32min\u001b[0m \u001b[0mzip\u001b[0m\u001b[0;34m(\u001b[0m\u001b[0msig\u001b[0m\u001b[0;34m.\u001b[0m\u001b[0mparameters\u001b[0m\u001b[0;34m,\u001b[0m \u001b[0margs\u001b[0m\u001b[0;34m)\u001b[0m\u001b[0;34m:\u001b[0m\u001b[0;34m\u001b[0m\u001b[0;34m\u001b[0m\u001b[0m\n\u001b[1;32m    574\u001b[0m             \u001b[0mkwargs\u001b[0m\u001b[0;34m[\u001b[0m\u001b[0mk\u001b[0m\u001b[0;34m]\u001b[0m \u001b[0;34m=\u001b[0m \u001b[0marg\u001b[0m\u001b[0;34m\u001b[0m\u001b[0;34m\u001b[0m\u001b[0m\n\u001b[0;32m--> 575\u001b[0;31m         \u001b[0;32mreturn\u001b[0m \u001b[0mf\u001b[0m\u001b[0;34m(\u001b[0m\u001b[0;34m**\u001b[0m\u001b[0mkwargs\u001b[0m\u001b[0;34m)\u001b[0m\u001b[0;34m\u001b[0m\u001b[0;34m\u001b[0m\u001b[0m\n\u001b[0m\u001b[1;32m    576\u001b[0m \u001b[0;34m\u001b[0m\u001b[0m\n\u001b[1;32m    577\u001b[0m     \u001b[0;32mreturn\u001b[0m \u001b[0minner_f\u001b[0m\u001b[0;34m\u001b[0m\u001b[0;34m\u001b[0m\u001b[0m\n",
      "\u001b[0;32m~/opt/anaconda3/envs/sainthm/lib/python3.7/site-packages/xgboost/training.py\u001b[0m in \u001b[0;36mtrain\u001b[0;34m(params, dtrain, num_boost_round, evals, obj, feval, maximize, early_stopping_rounds, evals_result, verbose_eval, xgb_model, callbacks, custom_metric)\u001b[0m\n\u001b[1;32m    174\u001b[0m     )\n\u001b[1;32m    175\u001b[0m \u001b[0;34m\u001b[0m\u001b[0m\n\u001b[0;32m--> 176\u001b[0;31m     \u001b[0mbst\u001b[0m \u001b[0;34m=\u001b[0m \u001b[0mcb_container\u001b[0m\u001b[0;34m.\u001b[0m\u001b[0mbefore_training\u001b[0m\u001b[0;34m(\u001b[0m\u001b[0mbst\u001b[0m\u001b[0;34m)\u001b[0m\u001b[0;34m\u001b[0m\u001b[0;34m\u001b[0m\u001b[0m\n\u001b[0m\u001b[1;32m    177\u001b[0m \u001b[0;34m\u001b[0m\u001b[0m\n\u001b[1;32m    178\u001b[0m     \u001b[0;32mfor\u001b[0m \u001b[0mi\u001b[0m \u001b[0;32min\u001b[0m \u001b[0mrange\u001b[0m\u001b[0;34m(\u001b[0m\u001b[0mstart_iteration\u001b[0m\u001b[0;34m,\u001b[0m \u001b[0mnum_boost_round\u001b[0m\u001b[0;34m)\u001b[0m\u001b[0;34m:\u001b[0m\u001b[0;34m\u001b[0m\u001b[0;34m\u001b[0m\u001b[0m\n",
      "\u001b[0;32m~/opt/anaconda3/envs/sainthm/lib/python3.7/site-packages/xgboost/callback.py\u001b[0m in \u001b[0;36mbefore_training\u001b[0;34m(self, model)\u001b[0m\n\u001b[1;32m    145\u001b[0m         \u001b[0;34m'''Function called before training.'''\u001b[0m\u001b[0;34m\u001b[0m\u001b[0;34m\u001b[0m\u001b[0m\n\u001b[1;32m    146\u001b[0m         \u001b[0;32mfor\u001b[0m \u001b[0mc\u001b[0m \u001b[0;32min\u001b[0m \u001b[0mself\u001b[0m\u001b[0;34m.\u001b[0m\u001b[0mcallbacks\u001b[0m\u001b[0;34m:\u001b[0m\u001b[0;34m\u001b[0m\u001b[0;34m\u001b[0m\u001b[0m\n\u001b[0;32m--> 147\u001b[0;31m             \u001b[0mmodel\u001b[0m \u001b[0;34m=\u001b[0m \u001b[0mc\u001b[0m\u001b[0;34m.\u001b[0m\u001b[0mbefore_training\u001b[0m\u001b[0;34m(\u001b[0m\u001b[0mmodel\u001b[0m\u001b[0;34m=\u001b[0m\u001b[0mmodel\u001b[0m\u001b[0;34m)\u001b[0m\u001b[0;34m\u001b[0m\u001b[0;34m\u001b[0m\u001b[0m\n\u001b[0m\u001b[1;32m    148\u001b[0m             \u001b[0mmsg\u001b[0m \u001b[0;34m=\u001b[0m \u001b[0;34m'before_training should return the model'\u001b[0m\u001b[0;34m\u001b[0m\u001b[0;34m\u001b[0m\u001b[0m\n\u001b[1;32m    149\u001b[0m             \u001b[0;32mif\u001b[0m \u001b[0mself\u001b[0m\u001b[0;34m.\u001b[0m\u001b[0mis_cv\u001b[0m\u001b[0;34m:\u001b[0m\u001b[0;34m\u001b[0m\u001b[0;34m\u001b[0m\u001b[0m\n",
      "\u001b[0;32m~/opt/anaconda3/envs/sainthm/lib/python3.7/site-packages/xgboost/callback.py\u001b[0m in \u001b[0;36mbefore_training\u001b[0;34m(self, model)\u001b[0m\n\u001b[1;32m    347\u001b[0m \u001b[0;34m\u001b[0m\u001b[0m\n\u001b[1;32m    348\u001b[0m     \u001b[0;32mdef\u001b[0m \u001b[0mbefore_training\u001b[0m\u001b[0;34m(\u001b[0m\u001b[0mself\u001b[0m\u001b[0;34m,\u001b[0m \u001b[0mmodel\u001b[0m\u001b[0;34m)\u001b[0m\u001b[0;34m:\u001b[0m\u001b[0;34m\u001b[0m\u001b[0;34m\u001b[0m\u001b[0m\n\u001b[0;32m--> 349\u001b[0;31m         \u001b[0mself\u001b[0m\u001b[0;34m.\u001b[0m\u001b[0mstarting_round\u001b[0m \u001b[0;34m=\u001b[0m \u001b[0mmodel\u001b[0m\u001b[0;34m.\u001b[0m\u001b[0mnum_boosted_rounds\u001b[0m\u001b[0;34m(\u001b[0m\u001b[0;34m)\u001b[0m\u001b[0;34m\u001b[0m\u001b[0;34m\u001b[0m\u001b[0m\n\u001b[0m\u001b[1;32m    350\u001b[0m         \u001b[0;32mreturn\u001b[0m \u001b[0mmodel\u001b[0m\u001b[0;34m\u001b[0m\u001b[0;34m\u001b[0m\u001b[0m\n\u001b[1;32m    351\u001b[0m \u001b[0;34m\u001b[0m\u001b[0m\n",
      "\u001b[0;32m~/opt/anaconda3/envs/sainthm/lib/python3.7/site-packages/xgboost/core.py\u001b[0m in \u001b[0;36mnum_boosted_rounds\u001b[0;34m(self)\u001b[0m\n\u001b[1;32m   2317\u001b[0m         \u001b[0mrounds\u001b[0m \u001b[0;34m=\u001b[0m \u001b[0mctypes\u001b[0m\u001b[0;34m.\u001b[0m\u001b[0mc_int\u001b[0m\u001b[0;34m(\u001b[0m\u001b[0;34m)\u001b[0m\u001b[0;34m\u001b[0m\u001b[0;34m\u001b[0m\u001b[0m\n\u001b[1;32m   2318\u001b[0m         \u001b[0;32massert\u001b[0m \u001b[0mself\u001b[0m\u001b[0;34m.\u001b[0m\u001b[0mhandle\u001b[0m \u001b[0;32mis\u001b[0m \u001b[0;32mnot\u001b[0m \u001b[0;32mNone\u001b[0m\u001b[0;34m\u001b[0m\u001b[0;34m\u001b[0m\u001b[0m\n\u001b[0;32m-> 2319\u001b[0;31m         \u001b[0m_check_call\u001b[0m\u001b[0;34m(\u001b[0m\u001b[0m_LIB\u001b[0m\u001b[0;34m.\u001b[0m\u001b[0mXGBoosterBoostedRounds\u001b[0m\u001b[0;34m(\u001b[0m\u001b[0mself\u001b[0m\u001b[0;34m.\u001b[0m\u001b[0mhandle\u001b[0m\u001b[0;34m,\u001b[0m \u001b[0mctypes\u001b[0m\u001b[0;34m.\u001b[0m\u001b[0mbyref\u001b[0m\u001b[0;34m(\u001b[0m\u001b[0mrounds\u001b[0m\u001b[0;34m)\u001b[0m\u001b[0;34m)\u001b[0m\u001b[0;34m)\u001b[0m\u001b[0;34m\u001b[0m\u001b[0;34m\u001b[0m\u001b[0m\n\u001b[0m\u001b[1;32m   2320\u001b[0m         \u001b[0;32mreturn\u001b[0m \u001b[0mrounds\u001b[0m\u001b[0;34m.\u001b[0m\u001b[0mvalue\u001b[0m\u001b[0;34m\u001b[0m\u001b[0;34m\u001b[0m\u001b[0m\n\u001b[1;32m   2321\u001b[0m \u001b[0;34m\u001b[0m\u001b[0m\n",
      "\u001b[0;32m~/opt/anaconda3/envs/sainthm/lib/python3.7/site-packages/xgboost/core.py\u001b[0m in \u001b[0;36m_check_call\u001b[0;34m(ret)\u001b[0m\n\u001b[1;32m    244\u001b[0m     \"\"\"\n\u001b[1;32m    245\u001b[0m     \u001b[0;32mif\u001b[0m \u001b[0mret\u001b[0m \u001b[0;34m!=\u001b[0m \u001b[0;36m0\u001b[0m\u001b[0;34m:\u001b[0m\u001b[0;34m\u001b[0m\u001b[0;34m\u001b[0m\u001b[0m\n\u001b[0;32m--> 246\u001b[0;31m         \u001b[0;32mraise\u001b[0m \u001b[0mXGBoostError\u001b[0m\u001b[0;34m(\u001b[0m\u001b[0mpy_str\u001b[0m\u001b[0;34m(\u001b[0m\u001b[0m_LIB\u001b[0m\u001b[0;34m.\u001b[0m\u001b[0mXGBGetLastError\u001b[0m\u001b[0;34m(\u001b[0m\u001b[0;34m)\u001b[0m\u001b[0;34m)\u001b[0m\u001b[0;34m)\u001b[0m\u001b[0;34m\u001b[0m\u001b[0;34m\u001b[0m\u001b[0m\n\u001b[0m\u001b[1;32m    247\u001b[0m \u001b[0;34m\u001b[0m\u001b[0m\n\u001b[1;32m    248\u001b[0m \u001b[0;34m\u001b[0m\u001b[0m\n",
      "\u001b[0;31mXGBoostError\u001b[0m: [04:06:06] /Users/runner/miniforge3/conda-bld/xgboost-split_1665562906201/work/src/gbm/../common/common.h:239: XGBoost version not compiled with GPU support.\nStack trace:\n  [bt] (0) 1   libxgboost.dylib                    0x0000000172f135b4 dmlc::LogMessageFatal::~LogMessageFatal() + 116\n  [bt] (1) 2   libxgboost.dylib                    0x0000000172febf70 xgboost::gbm::GBTree::ConfigureUpdaters() + 608\n  [bt] (2) 3   libxgboost.dylib                    0x0000000172fe662a xgboost::gbm::GBTree::Configure(std::__1::vector<std::__1::pair<std::__1::basic_string<char, std::__1::char_traits<char>, std::__1::allocator<char> >, std::__1::basic_string<char, std::__1::char_traits<char>, std::__1::allocator<char> > >, std::__1::allocator<std::__1::pair<std::__1::basic_string<char, std::__1::char_traits<char>, std::__1::allocator<char> >, std::__1::basic_string<char, std::__1::char_traits<char>, std::__1::allocator<char> > > > > const&) + 1114\n  [bt] (3) 4   libxgboost.dylib                    0x000000017300936f xgboost::LearnerConfiguration::Configure() + 1327\n  [bt] (4) 5   libxgboost.dylib                    0x0000000172f2a2f0 XGBoosterBoostedRounds + 112\n  [bt] (5) 6   libffi.8.dylib                      0x000000010d181d92 ffi_call_unix64 + 82\n  [bt] (6) 7   ???                                 0x00000003099a0670 0x0 + 13045991024\n\n"
     ]
    }
   ],
   "source": [
    "params_xgb = {\n",
    "    \"objective\":\"binary:logistic\",\n",
    "    \"eval_metric\": \"logloss\",\n",
    "    \"learning_rate\": 0.003,\n",
    "    \"max_depth\":6,\n",
    "    'random_state': 42,\n",
    "    \"n_jobs\":-1,\n",
    "    \"seed\":123,\n",
    "    \"tree_method\":\"gpu_hist\",\n",
    "    'alpha': 0.5091797271529079, \n",
    "    'lambda': 0.35380392843435005, \n",
    "    'subsample': 0.9, \n",
    "    'colsample_bytree': 0.4\n",
    "}\n",
    "\n",
    "xgb_val_preds, xgb_test_preds = get_xgb_preds(X, y, X_test, nfold=13, params_xgb=params_xgb)"
   ]
  },
  {
   "cell_type": "code",
   "execution_count": null,
   "id": "26270f7f",
   "metadata": {},
   "outputs": [],
   "source": [
    "print(f\"score={log_loss(y, xgb_val_preds)}\")\n",
    "fig, axes = plt.subplots(1, 2, figsize=(16,4))\n",
    "axes[0].hist(xgb_val_preds, bins=100);\n",
    "axes[0].set_title(\"Train Predictions Histogram\")\n",
    "axes[1].hist(xgb_test_preds, bins=100);\n",
    "axes[1].set_title(\"Test Predictions Histogram\");\n",
    "plt.show()"
   ]
  },
  {
   "cell_type": "code",
   "execution_count": null,
   "id": "bba8bd52",
   "metadata": {},
   "outputs": [],
   "source": [
    "sub = pd.read_csv('./tabular-playground-series-nov-2022/sample_submission.csv')\n",
    "sub[\"pred\"] = xgb_test_preds\n",
    "sub.to_csv(\"sub_xgb_pseudo.csv\", index=False)"
   ]
  },
  {
   "cell_type": "markdown",
   "id": "58c655eb",
   "metadata": {},
   "source": [
    "## Mean Methods Comparisons\n",
    "### Mean Methods Comparisons\n",
    "- https://www.kaggle.com/code/hasanbasriakcay/tpsnov22-mean-methods-comparisons"
   ]
  },
  {
   "cell_type": "code",
   "execution_count": null,
   "id": "532424c1",
   "metadata": {},
   "outputs": [],
   "source": [
    "# notebook https://www.kaggle.com/code/mikhailkuz/lightautoml-nn-happiness/notebook?scriptVersionId=109952433\n",
    "sub_mikhail_alexander = pd.read_csv(\"./LightAutoML_submission.csv\")\n",
    "\n",
    "# https://www.kaggle.com/code/sergiosaharovskiy/tps-nov-2022-in-automl-we-trust/notebook?scriptVersionId=110041978\n",
    "sub_sergey = pd.read_csv(\"./LightAutoML_submission+prev_best.csv\")\n",
    "\n",
    "# https://www.kaggle.com/code/pourchot/stacking-with-scipy-minimize/notebook\n",
    "sub_laurent = pd.read_csv(\"./submission_pred_stacked_scipy_blended2.csv\")\n",
    "\n",
    "fig, ax = plt.subplots(figsize=(16,4))\n",
    "ax.hist(sub_mikhail_alexander[\"pred\"], bins=100, alpha=0.33, label='Mikhail+Alexander')\n",
    "ax.hist(sub_sergey[\"pred\"], bins=100, alpha=0.33, label='Sergey')\n",
    "ax.hist(sub_laurent[\"pred\"], bins=100, alpha=0.33, label='Laurent')\n",
    "ax.set_title(\"Predictions Histogram\");\n",
    "ax.legend(loc='best');"
   ]
  },
  {
   "cell_type": "code",
   "execution_count": null,
   "id": "2b998f24",
   "metadata": {},
   "outputs": [],
   "source": [
    "final_gmean_pred = gmean([xgb_test_preds, lgbm_test_preds, sub_mikhail_alexander[\"pred\"], sub_sergey[\"pred\"], sub_laurent[\"pred\"]], axis=0)\n",
    "sub[\"pred\"] = final_gmean_pred\n",
    "sub.to_csv(\"sub_final_gmean_pseudo.csv\", index=False)\n",
    "\n",
    "final_hmean_pred = hmean([xgb_test_preds, lgbm_test_preds, sub_mikhail_alexander[\"pred\"], sub_sergey[\"pred\"], sub_laurent[\"pred\"]], axis=0)\n",
    "sub[\"pred\"] = final_hmean_pred\n",
    "sub.to_csv(\"sub_final_hmean_pseudo.csv\", index=False)\n",
    "\n",
    "fig, ax = plt.subplots(figsize=(16,4))\n",
    "ax.hist(final_hmean_pred, bins=100, alpha=0.5, label='final_hmean');\n",
    "ax.hist(final_gmean_pred, bins=100, alpha=0.5, label='final_gmean')\n",
    "ax.set_title(\"Predictions Histogram\");\n",
    "ax.legend(loc='best');"
   ]
  },
  {
   "cell_type": "code",
   "execution_count": null,
   "id": "27f30799",
   "metadata": {},
   "outputs": [],
   "source": []
  },
  {
   "cell_type": "code",
   "execution_count": null,
   "id": "47b3072a",
   "metadata": {},
   "outputs": [],
   "source": []
  }
 ],
 "metadata": {
  "kernelspec": {
   "display_name": "Python 3 (ipykernel)",
   "language": "python",
   "name": "python3"
  },
  "language_info": {
   "codemirror_mode": {
    "name": "ipython",
    "version": 3
   },
   "file_extension": ".py",
   "mimetype": "text/x-python",
   "name": "python",
   "nbconvert_exporter": "python",
   "pygments_lexer": "ipython3",
   "version": "3.7.12"
  }
 },
 "nbformat": 4,
 "nbformat_minor": 5
}
