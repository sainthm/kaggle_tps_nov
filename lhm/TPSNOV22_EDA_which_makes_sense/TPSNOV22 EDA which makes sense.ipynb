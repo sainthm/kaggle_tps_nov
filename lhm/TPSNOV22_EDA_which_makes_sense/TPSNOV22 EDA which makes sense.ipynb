{
 "cells": [
  {
   "cell_type": "markdown",
   "id": "b7edad11",
   "metadata": {},
   "source": [
    "# TPSNOV22 EDA which makes sense ⭐️⭐️⭐️⭐️⭐️"
   ]
  },
  {
   "cell_type": "markdown",
   "id": "84cc53c8",
   "metadata": {},
   "source": [
    "<br>"
   ]
  },
  {
   "cell_type": "markdown",
   "id": "b0dbf957",
   "metadata": {},
   "source": [
    "## Details of competition\n",
    "#### URL: https://www.kaggle.com/competitions/tabular-playground-series-nov-2022/overview\n",
    "\n",
    "<br>\n",
    "\n",
    "#### Topic\n",
    "Provide a fun and approachable-for-anyone tabular dataset to model.\n",
    "\n",
    "<br>\n",
    "\n",
    "#### Background\n",
    "\n",
    "<br>\n",
    "\n",
    "##### About the Tabular Playground Series\n",
    "Kaggle competitions are incredibly fun and rewarding, but they can also be intimidating for people who are relatively new in their data science journey. In the past, we've launched many Playground competitions that are more approachable than our Featured competitions and thus, more beginner-friendly.\n",
    "\n",
    "<br>\n",
    "\n",
    "**The goal of these competitions is to provide a fun and approachable-for-anyone tabular dataset to model.** These competitions are a great choice for people looking for something in between the Titanic Getting Started competition and the Featured competitions. If you're an established competitions master or grandmaster, these probably won't be much of a challenge for you; thus, we encourage you to avoid saturating the leaderboard.\n",
    "\n",
    "<br>\n",
    "\n",
    "For each monthly competition, we'll be offering Kaggle Merchandise for the top three teams. And finally, because we want these competitions to be more about learning, we're limiting team sizes to 3 individuals."
   ]
  },
  {
   "cell_type": "markdown",
   "id": "b4156615",
   "metadata": {},
   "source": [
    "<br>"
   ]
  },
  {
   "cell_type": "markdown",
   "id": "ca77eeb3",
   "metadata": {},
   "source": [
    "## Reference: TPSNOV22 EDA which makes sense\n",
    "\n",
    "### Main URL: \n",
    "- https://www.kaggle.com/code/ambrosm/tpsnov22-eda-which-makes-sense"
   ]
  },
  {
   "cell_type": "code",
   "execution_count": null,
   "id": "5d111edd",
   "metadata": {},
   "outputs": [],
   "source": []
  },
  {
   "cell_type": "code",
   "execution_count": null,
   "id": "310828f4",
   "metadata": {},
   "outputs": [],
   "source": []
  },
  {
   "cell_type": "code",
   "execution_count": null,
   "id": "4cfc9c28",
   "metadata": {},
   "outputs": [],
   "source": []
  },
  {
   "cell_type": "code",
   "execution_count": null,
   "id": "56a634db",
   "metadata": {},
   "outputs": [],
   "source": []
  },
  {
   "cell_type": "code",
   "execution_count": null,
   "id": "21936d80",
   "metadata": {},
   "outputs": [],
   "source": []
  },
  {
   "cell_type": "code",
   "execution_count": null,
   "id": "365765b0",
   "metadata": {},
   "outputs": [],
   "source": []
  },
  {
   "cell_type": "code",
   "execution_count": null,
   "id": "57d70b7b",
   "metadata": {},
   "outputs": [],
   "source": []
  },
  {
   "cell_type": "code",
   "execution_count": null,
   "id": "4dccb15b",
   "metadata": {},
   "outputs": [],
   "source": []
  }
 ],
 "metadata": {
  "kernelspec": {
   "display_name": "Python 3 (ipykernel)",
   "language": "python",
   "name": "python3"
  },
  "language_info": {
   "codemirror_mode": {
    "name": "ipython",
    "version": 3
   },
   "file_extension": ".py",
   "mimetype": "text/x-python",
   "name": "python",
   "nbconvert_exporter": "python",
   "pygments_lexer": "ipython3",
   "version": "3.7.12"
  }
 },
 "nbformat": 4,
 "nbformat_minor": 5
}
