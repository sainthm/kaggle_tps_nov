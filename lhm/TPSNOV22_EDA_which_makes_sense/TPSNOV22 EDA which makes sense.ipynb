{
 "cells": [
  {
   "cell_type": "markdown",
   "id": "9a53afd5",
   "metadata": {},
   "source": [
    "# TPSNOV22 EDA which makes sense ⭐️⭐️⭐️⭐️⭐️"
   ]
  },
  {
   "cell_type": "markdown",
   "id": "4597cb40",
   "metadata": {},
   "source": [
    "<br>"
   ]
  },
  {
   "cell_type": "markdown",
   "id": "7cbfa493",
   "metadata": {},
   "source": [
    "## Details of competition\n",
    "#### URL: https://www.kaggle.com/competitions/tabular-playground-series-nov-2022/overview\n",
    "\n",
    "<br>\n",
    "\n",
    "#### Topic\n",
    "Provide a fun and approachable-for-anyone tabular dataset to model.\n",
    "\n",
    "<br>\n",
    "\n",
    "#### Background\n",
    "\n",
    "<br>\n",
    "\n",
    "##### About the Tabular Playground Series\n",
    "Kaggle competitions are incredibly fun and rewarding, but they can also be intimidating for people who are relatively new in their data science journey. In the past, we've launched many Playground competitions that are more approachable than our Featured competitions and thus, more beginner-friendly.\n",
    "\n",
    "<br>\n",
    "\n",
    "**The goal of these competitions is to provide a fun and approachable-for-anyone tabular dataset to model.** These competitions are a great choice for people looking for something in between the Titanic Getting Started competition and the Featured competitions. If you're an established competitions master or grandmaster, these probably won't be much of a challenge for you; thus, we encourage you to avoid saturating the leaderboard.\n",
    "\n",
    "<br>\n",
    "\n",
    "For each monthly competition, we'll be offering Kaggle Merchandise for the top three teams. And finally, because we want these competitions to be more about learning, we're limiting team sizes to 3 individuals."
   ]
  },
  {
   "cell_type": "markdown",
   "id": "8743dcbe",
   "metadata": {},
   "source": [
    "<br>"
   ]
  },
  {
   "cell_type": "markdown",
   "id": "2bfd9a6d",
   "metadata": {},
   "source": [
    "## Reference: TPSNOV22 EDA which makes sense\n",
    "\n",
    "### Main URL: \n",
    "- https://www.kaggle.com/code/ambrosm/tpsnov22-eda-which-makes-sense\n",
    "\n",
    "<br>\n",
    "\n",
    "### EDA which makes sense ⭐️⭐️⭐️⭐️⭐️\n",
    "This notebook shows an exploratory data analysis for the November 2022 Tabular Playground competition."
   ]
  },
  {
   "cell_type": "code",
   "execution_count": 34,
   "id": "bfe669ce",
   "metadata": {},
   "outputs": [],
   "source": [
    "# import module\n",
    "import glob, pickle, scipy.optimize, scipy.special\n",
    "import pandas as pd\n",
    "import numpy as np\n",
    "import matplotlib.pyplot as plt\n",
    "from colorama import Fore, Back, Style\n",
    "\n",
    "from sklearn.model_selection import StratifiedKFold\n",
    "from sklearn.preprocessing import StandardScaler, PolynomialFeatures\n",
    "from sklearn.decomposition import PCA\n",
    "from sklearn.pipeline import make_pipeline\n",
    "from sklearn.linear_model import LogisticRegression, Ridge\n",
    "from sklearn.neighbors import KNeighborsClassifier\n",
    "from sklearn.ensemble import ExtraTreesClassifier\n",
    "from sklearn.neural_network import MLPClassifier\n",
    "from sklearn.isotonic import IsotonicRegression\n",
    "from sklearn.calibration import CalibrationDisplay\n",
    "from sklearn.metrics import log_loss"
   ]
  },
  {
   "cell_type": "markdown",
   "id": "e5961c64",
   "metadata": {},
   "source": [
    "## Reading the data\n",
    "- The members of our ensemble are given as 5000 submission files. Every submission file contains 40000 predictions. We read all of this data into an array X.\n",
    "\n",
    "\n",
    "- We save X as a pickle file. If you load it from this notebook's output, you can save some time:"
   ]
  },
  {
   "cell_type": "code",
   "execution_count": 35,
   "id": "dc972814",
   "metadata": {},
   "outputs": [],
   "source": [
    "with open('./X.pickle', 'rb') as f: X = pickle.load(f)"
   ]
  },
  {
   "cell_type": "code",
   "execution_count": 54,
   "id": "f6c7a73c",
   "metadata": {},
   "outputs": [
    {
     "name": "stdout",
     "output_type": "stream",
     "text": [
      "Sample input file:\n"
     ]
    },
    {
     "data": {
      "text/html": [
       "<div>\n",
       "<style scoped>\n",
       "    .dataframe tbody tr th:only-of-type {\n",
       "        vertical-align: middle;\n",
       "    }\n",
       "\n",
       "    .dataframe tbody tr th {\n",
       "        vertical-align: top;\n",
       "    }\n",
       "\n",
       "    .dataframe thead th {\n",
       "        text-align: right;\n",
       "    }\n",
       "</style>\n",
       "<table border=\"1\" class=\"dataframe\">\n",
       "  <thead>\n",
       "    <tr style=\"text-align: right;\">\n",
       "      <th></th>\n",
       "      <th>id</th>\n",
       "      <th>pred</th>\n",
       "    </tr>\n",
       "  </thead>\n",
       "  <tbody>\n",
       "    <tr>\n",
       "      <th>0</th>\n",
       "      <td>0</td>\n",
       "      <td>0.709336</td>\n",
       "    </tr>\n",
       "    <tr>\n",
       "      <th>1</th>\n",
       "      <td>1</td>\n",
       "      <td>0.452988</td>\n",
       "    </tr>\n",
       "    <tr>\n",
       "      <th>2</th>\n",
       "      <td>2</td>\n",
       "      <td>0.675462</td>\n",
       "    </tr>\n",
       "    <tr>\n",
       "      <th>3</th>\n",
       "      <td>3</td>\n",
       "      <td>0.481046</td>\n",
       "    </tr>\n",
       "    <tr>\n",
       "      <th>4</th>\n",
       "      <td>4</td>\n",
       "      <td>0.957339</td>\n",
       "    </tr>\n",
       "    <tr>\n",
       "      <th>...</th>\n",
       "      <td>...</td>\n",
       "      <td>...</td>\n",
       "    </tr>\n",
       "    <tr>\n",
       "      <th>39995</th>\n",
       "      <td>39995</td>\n",
       "      <td>0.382515</td>\n",
       "    </tr>\n",
       "    <tr>\n",
       "      <th>39996</th>\n",
       "      <td>39996</td>\n",
       "      <td>0.352498</td>\n",
       "    </tr>\n",
       "    <tr>\n",
       "      <th>39997</th>\n",
       "      <td>39997</td>\n",
       "      <td>0.577554</td>\n",
       "    </tr>\n",
       "    <tr>\n",
       "      <th>39998</th>\n",
       "      <td>39998</td>\n",
       "      <td>0.712353</td>\n",
       "    </tr>\n",
       "    <tr>\n",
       "      <th>39999</th>\n",
       "      <td>39999</td>\n",
       "      <td>0.483215</td>\n",
       "    </tr>\n",
       "  </tbody>\n",
       "</table>\n",
       "<p>40000 rows × 2 columns</p>\n",
       "</div>"
      ],
      "text/plain": [
       "          id      pred\n",
       "0          0  0.709336\n",
       "1          1  0.452988\n",
       "2          2  0.675462\n",
       "3          3  0.481046\n",
       "4          4  0.957339\n",
       "...      ...       ...\n",
       "39995  39995  0.382515\n",
       "39996  39996  0.352498\n",
       "39997  39997  0.577554\n",
       "39998  39998  0.712353\n",
       "39999  39999  0.483215\n",
       "\n",
       "[40000 rows x 2 columns]"
      ]
     },
     "metadata": {},
     "output_type": "display_data"
    },
    {
     "name": "stdout",
     "output_type": "stream",
     "text": [
      "0\n",
      "1000\n",
      "2000\n",
      "3000\n",
      "4000\n",
      "CPU times: user 19.8 s, sys: 1.69 s, total: 21.5 s\n",
      "Wall time: 24.3 s\n"
     ]
    }
   ],
   "source": [
    "%%time\n",
    "X = np.zeros((40000, 5000))\n",
    "names = sorted(glob.glob('./tabular-playground-series-nov-2022/submission_files/*.csv'))\n",
    "for i, name in enumerate(names):\n",
    "#     assert len(name) == 77\n",
    "    sub = pd.read_csv(name)\n",
    "    assert (sub.id == np.arange(40000)).all()\n",
    "    if i == 0: \n",
    "        print('Sample input file:')\n",
    "        display(sub)\n",
    "    X[:,i] = sub.pred.values\n",
    "    if i % 1000 == 0: print(i)\n",
    "with open('X.pickle', 'wb') as f: pickle.dump(X, f)\n",
    "    \n",
    "X_dev = X[:20000]\n",
    "X_test = X[20000:]"
   ]
  },
  {
   "cell_type": "markdown",
   "id": "169acf83",
   "metadata": {},
   "source": [
    "<br>"
   ]
  },
  {
   "cell_type": "markdown",
   "id": "0a424270",
   "metadata": {},
   "source": [
    "#### The first half of the data (i.e. 20000 of the 40000 rows) are labeled. We read these labels into an array y."
   ]
  },
  {
   "cell_type": "markdown",
   "id": "122a1f06",
   "metadata": {},
   "source": [
    "<br>"
   ]
  },
  {
   "cell_type": "code",
   "execution_count": 43,
   "id": "4eb7ea9e",
   "metadata": {},
   "outputs": [
    {
     "data": {
      "text/html": [
       "<div>\n",
       "<style scoped>\n",
       "    .dataframe tbody tr th:only-of-type {\n",
       "        vertical-align: middle;\n",
       "    }\n",
       "\n",
       "    .dataframe tbody tr th {\n",
       "        vertical-align: top;\n",
       "    }\n",
       "\n",
       "    .dataframe thead th {\n",
       "        text-align: right;\n",
       "    }\n",
       "</style>\n",
       "<table border=\"1\" class=\"dataframe\">\n",
       "  <thead>\n",
       "    <tr style=\"text-align: right;\">\n",
       "      <th></th>\n",
       "      <th>id</th>\n",
       "      <th>label</th>\n",
       "    </tr>\n",
       "  </thead>\n",
       "  <tbody>\n",
       "    <tr>\n",
       "      <th>0</th>\n",
       "      <td>0</td>\n",
       "      <td>0</td>\n",
       "    </tr>\n",
       "    <tr>\n",
       "      <th>1</th>\n",
       "      <td>1</td>\n",
       "      <td>1</td>\n",
       "    </tr>\n",
       "    <tr>\n",
       "      <th>2</th>\n",
       "      <td>2</td>\n",
       "      <td>1</td>\n",
       "    </tr>\n",
       "    <tr>\n",
       "      <th>3</th>\n",
       "      <td>3</td>\n",
       "      <td>1</td>\n",
       "    </tr>\n",
       "    <tr>\n",
       "      <th>4</th>\n",
       "      <td>4</td>\n",
       "      <td>0</td>\n",
       "    </tr>\n",
       "    <tr>\n",
       "      <th>...</th>\n",
       "      <td>...</td>\n",
       "      <td>...</td>\n",
       "    </tr>\n",
       "    <tr>\n",
       "      <th>19995</th>\n",
       "      <td>19995</td>\n",
       "      <td>1</td>\n",
       "    </tr>\n",
       "    <tr>\n",
       "      <th>19996</th>\n",
       "      <td>19996</td>\n",
       "      <td>1</td>\n",
       "    </tr>\n",
       "    <tr>\n",
       "      <th>19997</th>\n",
       "      <td>19997</td>\n",
       "      <td>0</td>\n",
       "    </tr>\n",
       "    <tr>\n",
       "      <th>19998</th>\n",
       "      <td>19998</td>\n",
       "      <td>0</td>\n",
       "    </tr>\n",
       "    <tr>\n",
       "      <th>19999</th>\n",
       "      <td>19999</td>\n",
       "      <td>1</td>\n",
       "    </tr>\n",
       "  </tbody>\n",
       "</table>\n",
       "<p>20000 rows × 2 columns</p>\n",
       "</div>"
      ],
      "text/plain": [
       "          id  label\n",
       "0          0      0\n",
       "1          1      1\n",
       "2          2      1\n",
       "3          3      1\n",
       "4          4      0\n",
       "...      ...    ...\n",
       "19995  19995      1\n",
       "19996  19996      1\n",
       "19997  19997      0\n",
       "19998  19998      0\n",
       "19999  19999      1\n",
       "\n",
       "[20000 rows x 2 columns]"
      ]
     },
     "metadata": {},
     "output_type": "display_data"
    }
   ],
   "source": [
    "y = pd.read_csv('./tabular-playground-series-nov-2022/train_labels.csv')\n",
    "assert (y.id == np.arange(20000)).all()\n",
    "display(y)\n",
    "y = y.label.values"
   ]
  },
  {
   "cell_type": "markdown",
   "id": "235cce46",
   "metadata": {},
   "source": [
    "##### The classification problem is balanced: There are 50 % positive and 50 % negative samples:"
   ]
  },
  {
   "cell_type": "code",
   "execution_count": 44,
   "id": "909e3ae5",
   "metadata": {},
   "outputs": [
    {
     "data": {
      "text/plain": [
       "0.5"
      ]
     },
     "execution_count": 44,
     "metadata": {},
     "output_type": "execute_result"
    }
   ],
   "source": [
    "y.mean()"
   ]
  },
  {
   "cell_type": "markdown",
   "id": "a7452f9b",
   "metadata": {},
   "source": [
    "<br>"
   ]
  },
  {
   "cell_type": "markdown",
   "id": "48487d2d",
   "metadata": {},
   "source": [
    "## Outliers and null values"
   ]
  },
  {
   "cell_type": "markdown",
   "id": "f436a5e6",
   "metadata": {},
   "source": [
    "<br>"
   ]
  },
  {
   "cell_type": "markdown",
   "id": "3ae9f854",
   "metadata": {},
   "source": [
    "##### Let's do a sanity check:\n",
    "\n",
    "- The predictions should be probabilities between 0 and 1, but X contains some values outside this range.\n",
    "\n",
    "\n",
    "- The labels are all 0 or 1, as is to be expected.\n",
    "\n",
    "\n",
    "- There are no null values.\n",
    "\n",
    "<br>\n",
    "\n",
    "**Insight:** We should clean the data before we start ensembling. We can drop columns which contain outliers, drop training rows which contain outliers, or we can simply clip the data to the interval [0, 1]."
   ]
  },
  {
   "cell_type": "code",
   "execution_count": 45,
   "id": "50d4f844",
   "metadata": {},
   "outputs": [
    {
     "name": "stdout",
     "output_type": "stream",
     "text": [
      "Minimum and maximum X values: -0.376186 1.356611\n",
      "Unique labels:                [0 1]\n",
      "Null values in X and y:       0 0\n"
     ]
    }
   ],
   "source": [
    "print('Minimum and maximum X values:', X.min(), X.max())\n",
    "print('Unique labels:               ', np.unique(y))\n",
    "print('Null values in X and y:      ', np.isnan(X).sum(), np.isnan(y).sum())"
   ]
  },
  {
   "cell_type": "markdown",
   "id": "c2e10778",
   "metadata": {},
   "source": [
    "#### We count the outliers:"
   ]
  },
  {
   "cell_type": "code",
   "execution_count": 46,
   "id": "f2d5ce05",
   "metadata": {},
   "outputs": [
    {
     "name": "stdout",
     "output_type": "stream",
     "text": [
      "Values below zero:           1967\n",
      "Values above one:           15592\n",
      "Rows containing outliers:    3606 of 40000\n",
      "Columns containing outliers:  108 of 5000\n"
     ]
    }
   ],
   "source": [
    "print(f\"Values below zero:           {(X < 0).sum()}\")\n",
    "print(f\"Values above one:           {(X > 1).sum()}\")\n",
    "print(f\"Rows containing outliers:    {((X < 0) | (X > 1)).any(axis=1).sum()} of {X.shape[0]}\")\n",
    "print(f\"Columns containing outliers:  {((X < 0) | (X > 1)).any(axis=0).sum()} of {X.shape[1]}\")"
   ]
  },
  {
   "cell_type": "markdown",
   "id": "48152c48",
   "metadata": {},
   "source": [
    "## Duplicates"
   ]
  },
  {
   "cell_type": "markdown",
   "id": "eaa09ab2",
   "metadata": {},
   "source": [
    "<br>"
   ]
  },
  {
   "cell_type": "markdown",
   "id": "d4bffc08",
   "metadata": {},
   "source": [
    "#### We check for duplicate rows or columns in the data. There are no duplicates."
   ]
  },
  {
   "cell_type": "code",
   "execution_count": 47,
   "id": "2bfb3f9e",
   "metadata": {},
   "outputs": [
    {
     "name": "stdout",
     "output_type": "stream",
     "text": [
      "(40000, 5000)\n",
      "(40000, 5000)\n"
     ]
    }
   ],
   "source": [
    "print(np.unique(X, axis=0).shape)\n",
    "print(np.unique(X, axis=1).shape)"
   ]
  },
  {
   "cell_type": "markdown",
   "id": "446a65ed",
   "metadata": {},
   "source": [
    "## File names and log loss"
   ]
  },
  {
   "cell_type": "markdown",
   "id": "68a93a5f",
   "metadata": {},
   "source": [
    "#### According to the data description, the 5000 file names correspond to the log loss of the file. We verify this claim:"
   ]
  },
  {
   "cell_type": "code",
   "execution_count": 52,
   "id": "3d4fc39d",
   "metadata": {},
   "outputs": [
    {
     "name": "stdout",
     "output_type": "stream",
     "text": [
      "name                          log loss\n",
      "63195.csv 63195.0 0.6222863195129075\n",
      "07245.csv 7245.0 0.6223807245068153\n",
      "26578.csv 26578.0 0.622542657774157\n",
      "22291.csv 22291.0 0.6247722290993437\n",
      "55681.csv 55681.0 0.6253455680841075\n"
     ]
    },
    {
     "ename": "AssertionError",
     "evalue": "",
     "output_type": "error",
     "traceback": [
      "\u001b[0;31m---------------------------------------------------------------------------\u001b[0m",
      "\u001b[0;31mAssertionError\u001b[0m                            Traceback (most recent call last)",
      "\u001b[0;32m/var/folders/4h/b2cqm88s3cl_l0lpwl10b69r0000gn/T/ipykernel_22348/76646001.py\u001b[0m in \u001b[0;36m<module>\u001b[0;34m\u001b[0m\n\u001b[1;32m      8\u001b[0m     \u001b[0mname_loss\u001b[0m \u001b[0;34m=\u001b[0m \u001b[0mfloat\u001b[0m\u001b[0;34m(\u001b[0m\u001b[0mnames\u001b[0m\u001b[0;34m[\u001b[0m\u001b[0msub\u001b[0m\u001b[0;34m]\u001b[0m\u001b[0;34m[\u001b[0m\u001b[0;36m61\u001b[0m\u001b[0;34m:\u001b[0m\u001b[0;34m-\u001b[0m\u001b[0;36m4\u001b[0m\u001b[0;34m]\u001b[0m\u001b[0;34m)\u001b[0m\u001b[0;34m\u001b[0m\u001b[0;34m\u001b[0m\u001b[0m\n\u001b[1;32m      9\u001b[0m     \u001b[0mlog_loss_list\u001b[0m\u001b[0;34m.\u001b[0m\u001b[0mappend\u001b[0m\u001b[0;34m(\u001b[0m\u001b[0mname_loss\u001b[0m\u001b[0;34m)\u001b[0m\u001b[0;34m\u001b[0m\u001b[0;34m\u001b[0m\u001b[0m\n\u001b[0;32m---> 10\u001b[0;31m     \u001b[0;32massert\u001b[0m \u001b[0mabs\u001b[0m\u001b[0;34m(\u001b[0m\u001b[0mname_loss\u001b[0m \u001b[0;34m-\u001b[0m \u001b[0mlog_loss\u001b[0m\u001b[0;34m(\u001b[0m\u001b[0my\u001b[0m\u001b[0;34m,\u001b[0m \u001b[0mX_dev\u001b[0m\u001b[0;34m[\u001b[0m\u001b[0;34m:\u001b[0m\u001b[0;34m,\u001b[0m\u001b[0msub\u001b[0m\u001b[0;34m]\u001b[0m\u001b[0;34m)\u001b[0m\u001b[0;34m)\u001b[0m \u001b[0;34m<\u001b[0m \u001b[0;36m1e-10\u001b[0m\u001b[0;34m\u001b[0m\u001b[0;34m\u001b[0m\u001b[0m\n\u001b[0m",
      "\u001b[0;31mAssertionError\u001b[0m: "
     ]
    }
   ],
   "source": [
    "print('name                          log loss')\n",
    "for sub in range(5):\n",
    "    name_loss = float(names[sub][61:-4])\n",
    "    print(names[sub][61:], name_loss, log_loss(y, X_dev[:,sub]))\n",
    "    \n",
    "log_loss_list = []\n",
    "for sub in range(X.shape[1]):\n",
    "    name_loss = float(names[sub][61:-4])\n",
    "    log_loss_list.append(name_loss)\n",
    "    assert abs(name_loss - log_loss(y, X_dev[:,sub])) < 1e-10"
   ]
  },
  {
   "cell_type": "markdown",
   "id": "c8738b34",
   "metadata": {},
   "source": [
    "- The histogram of the 5000 scores shows that all models have loglosses between 0.622 and 0.758. Did you notice that these scores are rather weak? A dummy model which predicts 0.5 all the time has a log loss of 0.693 (red line in the diagram). A perfect model would have a log loss of 0.\n",
    "\n",
    "<br>\n",
    "\n",
    "- Insight: Half the input models are worse than a dummy classifier! Should we drop these columns immediately? No. Although these columns have high logloss, they still contain information which can be valuable to an ensemble."
   ]
  },
  {
   "cell_type": "code",
   "execution_count": 51,
   "id": "8a34b55f",
   "metadata": {},
   "outputs": [
    {
     "data": {
      "image/png": "[encoded data removed]",
      "text/plain": [
       "<Figure size 640x480 with 1 Axes>"
      ]
     },
     "metadata": {},
     "output_type": "display_data"
    }
   ],
   "source": [
    "plt.hist(log_loss_list, bins=20, density=True, color='c')\n",
    "plt.vlines([log_loss(y, np.full(len(y), 0.5))], 0, 30, color='r')\n",
    "plt.text(0.693, 31, 'dummy', color='r', ha='center')\n",
    "plt.title('Histogram of submission scores')\n",
    "plt.xlabel('log loss')\n",
    "plt.ylabel('density')\n",
    "plt.ylim(0, 34)\n",
    "plt.show()"
   ]
  },
  {
   "cell_type": "code",
   "execution_count": null,
   "id": "c4b5427e",
   "metadata": {},
   "outputs": [],
   "source": []
  },
  {
   "cell_type": "code",
   "execution_count": null,
   "id": "642fe561",
   "metadata": {},
   "outputs": [],
   "source": []
  },
  {
   "cell_type": "code",
   "execution_count": null,
   "id": "76e02d65",
   "metadata": {},
   "outputs": [],
   "source": []
  },
  {
   "cell_type": "code",
   "execution_count": null,
   "id": "998a3ecb",
   "metadata": {},
   "outputs": [],
   "source": []
  },
  {
   "cell_type": "code",
   "execution_count": null,
   "id": "a82e4b7e",
   "metadata": {},
   "outputs": [],
   "source": []
  }
 ],
 "metadata": {
  "kernelspec": {
   "display_name": "Python 3 (ipykernel)",
   "language": "python",
   "name": "python3"
  },
  "language_info": {
   "codemirror_mode": {
    "name": "ipython",
    "version": 3
   },
   "file_extension": ".py",
   "mimetype": "text/x-python",
   "name": "python",
   "nbconvert_exporter": "python",
   "pygments_lexer": "ipython3",
   "version": "3.7.12"
  }
 },
 "nbformat": 4,
 "nbformat_minor": 5
}
